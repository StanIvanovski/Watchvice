{
 "cells": [
  {
   "cell_type": "code",
   "execution_count": 1,
   "id": "047653b7",
   "metadata": {},
   "outputs": [],
   "source": [
    "#import of the pandas library\n",
    "import pandas as pd\n"
   ]
  },
  {
   "cell_type": "markdown",
   "id": "7afaabac",
   "metadata": {},
   "source": [
    "Definition of the user as the ones used in reco_propor_recent"
   ]
  },
  {
   "cell_type": "code",
   "execution_count": 2,
   "id": "224bc3a5",
   "metadata": {},
   "outputs": [],
   "source": [
    "userloc=0"
   ]
  },
  {
   "cell_type": "code",
   "execution_count": 3,
   "id": "23aaa0f0",
   "metadata": {},
   "outputs": [],
   "source": [
    "#import of the data from the other files outputs\n",
    "CelineOutput = pd.read_csv('../data/proposed_movie_pivot.csv',names=[\"recommendation\"],index_col=0,header=0) \n",
    "JohannOutput = pd.read_csv('../data/outputjohann2.csv', sep=';',index_col=0)\n"
   ]
  },
  {
   "cell_type": "code",
   "execution_count": 4,
   "id": "1aaceef0",
   "metadata": {},
   "outputs": [
    {
     "data": {
      "text/html": [
       "<div>\n",
       "<style scoped>\n",
       "    .dataframe tbody tr th:only-of-type {\n",
       "        vertical-align: middle;\n",
       "    }\n",
       "\n",
       "    .dataframe tbody tr th {\n",
       "        vertical-align: top;\n",
       "    }\n",
       "\n",
       "    .dataframe thead th {\n",
       "        text-align: right;\n",
       "    }\n",
       "</style>\n",
       "<table border=\"1\" class=\"dataframe\">\n",
       "  <thead>\n",
       "    <tr style=\"text-align: right;\">\n",
       "      <th></th>\n",
       "      <th>recommendation</th>\n",
       "    </tr>\n",
       "  </thead>\n",
       "  <tbody>\n",
       "    <tr>\n",
       "      <th>0</th>\n",
       "      <td>Spirited Away (Sen to Chihiro no kamikakushi) ...</td>\n",
       "    </tr>\n",
       "    <tr>\n",
       "      <th>1</th>\n",
       "      <td>Amelie (Fabuleux destin d'Amélie Poulain, Le) ...</td>\n",
       "    </tr>\n",
       "    <tr>\n",
       "      <th>2</th>\n",
       "      <td>Whisper of the Heart (Mimi wo sumaseba) (1995)</td>\n",
       "    </tr>\n",
       "    <tr>\n",
       "      <th>3</th>\n",
       "      <td>Lupin III: The Castle Of Cagliostro (Rupan san...</td>\n",
       "    </tr>\n",
       "    <tr>\n",
       "      <th>4</th>\n",
       "      <td>City of God (Cidade de Deus) (2002)</td>\n",
       "    </tr>\n",
       "    <tr>\n",
       "      <th>5</th>\n",
       "      <td>Life of Pi (2012)</td>\n",
       "    </tr>\n",
       "    <tr>\n",
       "      <th>6</th>\n",
       "      <td>Honest Liar, An (2014)</td>\n",
       "    </tr>\n",
       "    <tr>\n",
       "      <th>7</th>\n",
       "      <td>Song of the Sea (2014)</td>\n",
       "    </tr>\n",
       "    <tr>\n",
       "      <th>8</th>\n",
       "      <td>Tale of Princess Kaguya, The (Kaguyahime no mo...</td>\n",
       "    </tr>\n",
       "    <tr>\n",
       "      <th>9</th>\n",
       "      <td>Grand Budapest Hotel, The (2014)</td>\n",
       "    </tr>\n",
       "  </tbody>\n",
       "</table>\n",
       "</div>"
      ],
      "text/plain": [
       "                                      recommendation\n",
       "0  Spirited Away (Sen to Chihiro no kamikakushi) ...\n",
       "1  Amelie (Fabuleux destin d'Amélie Poulain, Le) ...\n",
       "2     Whisper of the Heart (Mimi wo sumaseba) (1995)\n",
       "3  Lupin III: The Castle Of Cagliostro (Rupan san...\n",
       "4                City of God (Cidade de Deus) (2002)\n",
       "5                                  Life of Pi (2012)\n",
       "6                             Honest Liar, An (2014)\n",
       "7                             Song of the Sea (2014)\n",
       "8  Tale of Princess Kaguya, The (Kaguyahime no mo...\n",
       "9                   Grand Budapest Hotel, The (2014)"
      ]
     },
     "execution_count": 4,
     "metadata": {},
     "output_type": "execute_result"
    }
   ],
   "source": [
    "#Check of CelineOuput \n",
    "CelineOutput.head(20)"
   ]
  },
  {
   "cell_type": "code",
   "execution_count": 5,
   "id": "98b30080",
   "metadata": {},
   "outputs": [
    {
     "data": {
      "text/html": [
       "<div>\n",
       "<style scoped>\n",
       "    .dataframe tbody tr th:only-of-type {\n",
       "        vertical-align: middle;\n",
       "    }\n",
       "\n",
       "    .dataframe tbody tr th {\n",
       "        vertical-align: top;\n",
       "    }\n",
       "\n",
       "    .dataframe thead th {\n",
       "        text-align: right;\n",
       "    }\n",
       "</style>\n",
       "<table border=\"1\" class=\"dataframe\">\n",
       "  <thead>\n",
       "    <tr style=\"text-align: right;\">\n",
       "      <th></th>\n",
       "      <th>userId</th>\n",
       "      <th>New_Cluster</th>\n",
       "      <th>count</th>\n",
       "      <th>film_prefere_du_cluster</th>\n",
       "      <th>recommendation</th>\n",
       "    </tr>\n",
       "  </thead>\n",
       "  <tbody>\n",
       "    <tr>\n",
       "      <th>0</th>\n",
       "      <td>1.0</td>\n",
       "      <td>71.0</td>\n",
       "      <td>4.0</td>\n",
       "      <td>Platoon (1986)</td>\n",
       "      <td>Lost in Translation (2003)</td>\n",
       "    </tr>\n",
       "    <tr>\n",
       "      <th>1</th>\n",
       "      <td>2.0</td>\n",
       "      <td>89.0</td>\n",
       "      <td>3.0</td>\n",
       "      <td>From Dusk Till Dawn (1996)</td>\n",
       "      <td>City of God (Cidade de Deus) (2002)</td>\n",
       "    </tr>\n",
       "    <tr>\n",
       "      <th>2</th>\n",
       "      <td>3.0</td>\n",
       "      <td>91.0</td>\n",
       "      <td>7.0</td>\n",
       "      <td>Star Trek: First Contact (1996)</td>\n",
       "      <td>O Brother, Where Art Thou? (2000)</td>\n",
       "    </tr>\n",
       "    <tr>\n",
       "      <th>3</th>\n",
       "      <td>4.0</td>\n",
       "      <td>48.0</td>\n",
       "      <td>2.0</td>\n",
       "      <td>Naked Gun 33 1/3: The Final Insult (1994)</td>\n",
       "      <td>None</td>\n",
       "    </tr>\n",
       "    <tr>\n",
       "      <th>4</th>\n",
       "      <td>5.0</td>\n",
       "      <td>91.0</td>\n",
       "      <td>4.0</td>\n",
       "      <td>Mr. Holland's Opus (1995)</td>\n",
       "      <td>O Brother, Where Art Thou? (2000)</td>\n",
       "    </tr>\n",
       "  </tbody>\n",
       "</table>\n",
       "</div>"
      ],
      "text/plain": [
       "   userId  New_Cluster  count                    film_prefere_du_cluster  \\\n",
       "0     1.0         71.0    4.0                             Platoon (1986)   \n",
       "1     2.0         89.0    3.0                 From Dusk Till Dawn (1996)   \n",
       "2     3.0         91.0    7.0            Star Trek: First Contact (1996)   \n",
       "3     4.0         48.0    2.0  Naked Gun 33 1/3: The Final Insult (1994)   \n",
       "4     5.0         91.0    4.0                  Mr. Holland's Opus (1995)   \n",
       "\n",
       "                        recommendation  \n",
       "0           Lost in Translation (2003)  \n",
       "1  City of God (Cidade de Deus) (2002)  \n",
       "2    O Brother, Where Art Thou? (2000)  \n",
       "3                                 None  \n",
       "4    O Brother, Where Art Thou? (2000)  "
      ]
     },
     "execution_count": 5,
     "metadata": {},
     "output_type": "execute_result"
    }
   ],
   "source": [
    "#Check of JohannOuput \n",
    "JohannOutput.head()"
   ]
  },
  {
   "cell_type": "code",
   "execution_count": 6,
   "id": "9b396450",
   "metadata": {},
   "outputs": [],
   "source": [
    "#Suppresion of useless of JohannOuput column\n",
    "\n",
    "JohannOutput.drop(['film_prefere_du_cluster'],inplace=True,axis=1)\n",
    "JohannOutput.drop(['New_Cluster'],inplace=True,axis=1)\n",
    "JohannOutput.drop(['count'],inplace=True,axis=1)\n"
   ]
  },
  {
   "cell_type": "code",
   "execution_count": 7,
   "id": "e5d09c22",
   "metadata": {},
   "outputs": [
    {
     "data": {
      "text/html": [
       "<div>\n",
       "<style scoped>\n",
       "    .dataframe tbody tr th:only-of-type {\n",
       "        vertical-align: middle;\n",
       "    }\n",
       "\n",
       "    .dataframe tbody tr th {\n",
       "        vertical-align: top;\n",
       "    }\n",
       "\n",
       "    .dataframe thead th {\n",
       "        text-align: right;\n",
       "    }\n",
       "</style>\n",
       "<table border=\"1\" class=\"dataframe\">\n",
       "  <thead>\n",
       "    <tr style=\"text-align: right;\">\n",
       "      <th></th>\n",
       "      <th>userId</th>\n",
       "      <th>recommendation</th>\n",
       "    </tr>\n",
       "  </thead>\n",
       "  <tbody>\n",
       "    <tr>\n",
       "      <th>0</th>\n",
       "      <td>1.0</td>\n",
       "      <td>Lost in Translation (2003)</td>\n",
       "    </tr>\n",
       "    <tr>\n",
       "      <th>1</th>\n",
       "      <td>2.0</td>\n",
       "      <td>City of God (Cidade de Deus) (2002)</td>\n",
       "    </tr>\n",
       "    <tr>\n",
       "      <th>2</th>\n",
       "      <td>3.0</td>\n",
       "      <td>O Brother, Where Art Thou? (2000)</td>\n",
       "    </tr>\n",
       "    <tr>\n",
       "      <th>3</th>\n",
       "      <td>4.0</td>\n",
       "      <td>None</td>\n",
       "    </tr>\n",
       "    <tr>\n",
       "      <th>4</th>\n",
       "      <td>5.0</td>\n",
       "      <td>O Brother, Where Art Thou? (2000)</td>\n",
       "    </tr>\n",
       "  </tbody>\n",
       "</table>\n",
       "</div>"
      ],
      "text/plain": [
       "   userId                       recommendation\n",
       "0     1.0           Lost in Translation (2003)\n",
       "1     2.0  City of God (Cidade de Deus) (2002)\n",
       "2     3.0    O Brother, Where Art Thou? (2000)\n",
       "3     4.0                                 None\n",
       "4     5.0    O Brother, Where Art Thou? (2000)"
      ]
     },
     "execution_count": 7,
     "metadata": {},
     "output_type": "execute_result"
    }
   ],
   "source": [
    "#Check of JohannOuput \n",
    "JohannOutput.head()"
   ]
  },
  {
   "cell_type": "code",
   "execution_count": 8,
   "id": "808f4fc6",
   "metadata": {},
   "outputs": [
    {
     "name": "stderr",
     "output_type": "stream",
     "text": [
      "C:\\Users\\celbo\\AppData\\Local\\Temp\\ipykernel_11976\\2730369427.py:3: FutureWarning: The frame.append method is deprecated and will be removed from pandas in a future version. Use pandas.concat instead.\n",
      "  FusionOutput = CelineOutput.append(JohannOutput.loc[userloc])\n"
     ]
    }
   ],
   "source": [
    "#Check of Fusion of the output for one user \n",
    "\n",
    "FusionOutput = CelineOutput.append(JohannOutput.loc[userloc])\n",
    "FusionOutput.drop(['userId'],inplace=True,axis=1)\n"
   ]
  },
  {
   "cell_type": "code",
   "execution_count": 9,
   "id": "513a9e3b",
   "metadata": {},
   "outputs": [
    {
     "name": "stdout",
     "output_type": "stream",
     "text": [
      "For the user  1.0\n"
     ]
    },
    {
     "data": {
      "text/html": [
       "<div>\n",
       "<style scoped>\n",
       "    .dataframe tbody tr th:only-of-type {\n",
       "        vertical-align: middle;\n",
       "    }\n",
       "\n",
       "    .dataframe tbody tr th {\n",
       "        vertical-align: top;\n",
       "    }\n",
       "\n",
       "    .dataframe thead th {\n",
       "        text-align: right;\n",
       "    }\n",
       "</style>\n",
       "<table border=\"1\" class=\"dataframe\">\n",
       "  <thead>\n",
       "    <tr style=\"text-align: right;\">\n",
       "      <th></th>\n",
       "      <th>recommendation</th>\n",
       "    </tr>\n",
       "  </thead>\n",
       "  <tbody>\n",
       "    <tr>\n",
       "      <th>0</th>\n",
       "      <td>Spirited Away (Sen to Chihiro no kamikakushi) ...</td>\n",
       "    </tr>\n",
       "    <tr>\n",
       "      <th>1</th>\n",
       "      <td>Amelie (Fabuleux destin d'Amélie Poulain, Le) ...</td>\n",
       "    </tr>\n",
       "    <tr>\n",
       "      <th>2</th>\n",
       "      <td>Whisper of the Heart (Mimi wo sumaseba) (1995)</td>\n",
       "    </tr>\n",
       "    <tr>\n",
       "      <th>3</th>\n",
       "      <td>Lupin III: The Castle Of Cagliostro (Rupan san...</td>\n",
       "    </tr>\n",
       "    <tr>\n",
       "      <th>4</th>\n",
       "      <td>City of God (Cidade de Deus) (2002)</td>\n",
       "    </tr>\n",
       "    <tr>\n",
       "      <th>5</th>\n",
       "      <td>Life of Pi (2012)</td>\n",
       "    </tr>\n",
       "    <tr>\n",
       "      <th>6</th>\n",
       "      <td>Honest Liar, An (2014)</td>\n",
       "    </tr>\n",
       "    <tr>\n",
       "      <th>7</th>\n",
       "      <td>Song of the Sea (2014)</td>\n",
       "    </tr>\n",
       "    <tr>\n",
       "      <th>8</th>\n",
       "      <td>Tale of Princess Kaguya, The (Kaguyahime no mo...</td>\n",
       "    </tr>\n",
       "    <tr>\n",
       "      <th>9</th>\n",
       "      <td>Grand Budapest Hotel, The (2014)</td>\n",
       "    </tr>\n",
       "    <tr>\n",
       "      <th>0</th>\n",
       "      <td>Lost in Translation (2003)</td>\n",
       "    </tr>\n",
       "  </tbody>\n",
       "</table>\n",
       "</div>"
      ],
      "text/plain": [
       "                                      recommendation\n",
       "0  Spirited Away (Sen to Chihiro no kamikakushi) ...\n",
       "1  Amelie (Fabuleux destin d'Amélie Poulain, Le) ...\n",
       "2     Whisper of the Heart (Mimi wo sumaseba) (1995)\n",
       "3  Lupin III: The Castle Of Cagliostro (Rupan san...\n",
       "4                City of God (Cidade de Deus) (2002)\n",
       "5                                  Life of Pi (2012)\n",
       "6                             Honest Liar, An (2014)\n",
       "7                             Song of the Sea (2014)\n",
       "8  Tale of Princess Kaguya, The (Kaguyahime no mo...\n",
       "9                   Grand Budapest Hotel, The (2014)\n",
       "0                         Lost in Translation (2003)"
      ]
     },
     "execution_count": 9,
     "metadata": {},
     "output_type": "execute_result"
    }
   ],
   "source": [
    "#prodction of the results\n",
    "print(\"For the user \",JohannOutput.loc[userloc].userId)\n",
    "FusionOutput.head(15)\n"
   ]
  }
 ],
 "metadata": {
  "kernelspec": {
   "display_name": "Python 3 (ipykernel)",
   "language": "python",
   "name": "python3"
  },
  "language_info": {
   "codemirror_mode": {
    "name": "ipython",
    "version": 3
   },
   "file_extension": ".py",
   "mimetype": "text/x-python",
   "name": "python",
   "nbconvert_exporter": "python",
   "pygments_lexer": "ipython3",
   "version": "3.9.12"
  }
 },
 "nbformat": 4,
 "nbformat_minor": 5
}
