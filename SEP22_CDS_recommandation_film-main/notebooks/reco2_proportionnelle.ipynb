{
 "cells": [
  {
   "cell_type": "markdown",
   "metadata": {
    "id": "sDfkn-IuaZ8z"
   },
   "source": [
    "Chargement des Librairies"
   ]
  },
  {
   "cell_type": "code",
   "execution_count": 1,
   "metadata": {
    "id": "nv0fgzNr94xR"
   },
   "outputs": [],
   "source": [
    "#Librairies\n",
    "import pandas as pd\n",
    "%matplotlib inline\n",
    "import matplotlib.pyplot as plt\n",
    "import seaborn as sns\n",
    "sns.set_theme()\n",
    "from sklearn.cluster import AgglomerativeClustering, KMeans"
   ]
  },
  {
   "cell_type": "markdown",
   "metadata": {
    "id": "xKNlyQtdDe_8"
   },
   "source": [
    "Chargement des CSV"
   ]
  },
  {
   "cell_type": "code",
   "execution_count": 2,
   "metadata": {
    "colab": {
     "base_uri": "https://localhost:8080/",
     "height": 403
    },
    "id": "EPxCOmk6-eUO",
    "outputId": "8dbd3d3c-f125-4d13-ecf6-b325bc0ba3db"
   },
   "outputs": [
    {
     "data": {
      "text/html": [
       "<div>\n",
       "<style scoped>\n",
       "    .dataframe tbody tr th:only-of-type {\n",
       "        vertical-align: middle;\n",
       "    }\n",
       "\n",
       "    .dataframe tbody tr th {\n",
       "        vertical-align: top;\n",
       "    }\n",
       "\n",
       "    .dataframe thead th {\n",
       "        text-align: right;\n",
       "    }\n",
       "</style>\n",
       "<table border=\"1\" class=\"dataframe\">\n",
       "  <thead>\n",
       "    <tr style=\"text-align: right;\">\n",
       "      <th></th>\n",
       "      <th>movieId</th>\n",
       "      <th>tagId</th>\n",
       "      <th>relevance</th>\n",
       "    </tr>\n",
       "  </thead>\n",
       "  <tbody>\n",
       "    <tr>\n",
       "      <th>0</th>\n",
       "      <td>1</td>\n",
       "      <td>1</td>\n",
       "      <td>0.02500</td>\n",
       "    </tr>\n",
       "    <tr>\n",
       "      <th>1</th>\n",
       "      <td>1</td>\n",
       "      <td>2</td>\n",
       "      <td>0.02500</td>\n",
       "    </tr>\n",
       "    <tr>\n",
       "      <th>2</th>\n",
       "      <td>1</td>\n",
       "      <td>3</td>\n",
       "      <td>0.05775</td>\n",
       "    </tr>\n",
       "    <tr>\n",
       "      <th>3</th>\n",
       "      <td>1</td>\n",
       "      <td>4</td>\n",
       "      <td>0.09675</td>\n",
       "    </tr>\n",
       "    <tr>\n",
       "      <th>4</th>\n",
       "      <td>1</td>\n",
       "      <td>5</td>\n",
       "      <td>0.14675</td>\n",
       "    </tr>\n",
       "  </tbody>\n",
       "</table>\n",
       "</div>"
      ],
      "text/plain": [
       "   movieId  tagId  relevance\n",
       "0        1      1    0.02500\n",
       "1        1      2    0.02500\n",
       "2        1      3    0.05775\n",
       "3        1      4    0.09675\n",
       "4        1      5    0.14675"
      ]
     },
     "metadata": {},
     "output_type": "display_data"
    },
    {
     "name": "stdout",
     "output_type": "stream",
     "text": [
      "<class 'pandas.core.frame.DataFrame'>\n",
      "RangeIndex: 11709768 entries, 0 to 11709767\n",
      "Data columns (total 3 columns):\n",
      " #   Column     Dtype  \n",
      "---  ------     -----  \n",
      " 0   movieId    int64  \n",
      " 1   tagId      int64  \n",
      " 2   relevance  float64\n",
      "dtypes: float64(1), int64(2)\n",
      "memory usage: 268.0 MB\n"
     ]
    },
    {
     "data": {
      "text/plain": [
       "None"
      ]
     },
     "metadata": {},
     "output_type": "display_data"
    }
   ],
   "source": [
    "#GenomeScores qui donne la relevance par tagIg et par movieId\n",
    "\n",
    "dfgenome=pd.read_csv(\"../data/genome-scores.csv\" )\n",
    "display(dfgenome.head(5))\n",
    "display(dfgenome.info())"
   ]
  },
  {
   "cell_type": "code",
   "execution_count": 3,
   "metadata": {
    "colab": {
     "base_uri": "https://localhost:8080/",
     "height": 398
    },
    "id": "8ZZzSFzm-fUm",
    "outputId": "b7f94a76-58e4-412c-d986-2a9fb3e857d1"
   },
   "outputs": [
    {
     "data": {
      "text/html": [
       "<div>\n",
       "<style scoped>\n",
       "    .dataframe tbody tr th:only-of-type {\n",
       "        vertical-align: middle;\n",
       "    }\n",
       "\n",
       "    .dataframe tbody tr th {\n",
       "        vertical-align: top;\n",
       "    }\n",
       "\n",
       "    .dataframe thead th {\n",
       "        text-align: right;\n",
       "    }\n",
       "</style>\n",
       "<table border=\"1\" class=\"dataframe\">\n",
       "  <thead>\n",
       "    <tr style=\"text-align: right;\">\n",
       "      <th></th>\n",
       "      <th>tag</th>\n",
       "    </tr>\n",
       "    <tr>\n",
       "      <th>tagId</th>\n",
       "      <th></th>\n",
       "    </tr>\n",
       "  </thead>\n",
       "  <tbody>\n",
       "    <tr>\n",
       "      <th>1</th>\n",
       "      <td>007</td>\n",
       "    </tr>\n",
       "    <tr>\n",
       "      <th>2</th>\n",
       "      <td>007 (series)</td>\n",
       "    </tr>\n",
       "    <tr>\n",
       "      <th>3</th>\n",
       "      <td>18th century</td>\n",
       "    </tr>\n",
       "    <tr>\n",
       "      <th>4</th>\n",
       "      <td>1920s</td>\n",
       "    </tr>\n",
       "    <tr>\n",
       "      <th>5</th>\n",
       "      <td>1930s</td>\n",
       "    </tr>\n",
       "  </tbody>\n",
       "</table>\n",
       "</div>"
      ],
      "text/plain": [
       "                tag\n",
       "tagId              \n",
       "1               007\n",
       "2      007 (series)\n",
       "3      18th century\n",
       "4             1920s\n",
       "5             1930s"
      ]
     },
     "metadata": {},
     "output_type": "display_data"
    },
    {
     "name": "stdout",
     "output_type": "stream",
     "text": [
      "<class 'pandas.core.frame.DataFrame'>\n",
      "Int64Index: 1128 entries, 1 to 1128\n",
      "Data columns (total 1 columns):\n",
      " #   Column  Non-Null Count  Dtype \n",
      "---  ------  --------------  ----- \n",
      " 0   tag     1128 non-null   object\n",
      "dtypes: object(1)\n",
      "memory usage: 17.6+ KB\n"
     ]
    },
    {
     "data": {
      "text/plain": [
       "None"
      ]
     },
     "metadata": {},
     "output_type": "display_data"
    }
   ],
   "source": [
    "#GenomeTags qui donne la correspondance des Tags avec leur TagId\n",
    "dftags=pd.read_csv(\"../data/genome-tags.csv\", index_col=\"tagId\")\n",
    "display(dftags.head(5))\n",
    "display(dftags.info())"
   ]
  },
  {
   "cell_type": "code",
   "execution_count": 4,
   "metadata": {
    "colab": {
     "base_uri": "https://localhost:8080/",
     "height": 416
    },
    "id": "bGIIcIgslycs",
    "outputId": "33483b8a-e8dc-4bd0-b17d-5f3c7a402d9a"
   },
   "outputs": [
    {
     "name": "stdout",
     "output_type": "stream",
     "text": [
      "<class 'pandas.core.frame.DataFrame'>\n",
      "Int64Index: 27278 entries, 1 to 131262\n",
      "Data columns (total 2 columns):\n",
      " #   Column  Non-Null Count  Dtype \n",
      "---  ------  --------------  ----- \n",
      " 0   title   27278 non-null  object\n",
      " 1   genres  27278 non-null  object\n",
      "dtypes: object(2)\n",
      "memory usage: 639.3+ KB\n"
     ]
    },
    {
     "data": {
      "text/plain": [
       "None"
      ]
     },
     "metadata": {},
     "output_type": "display_data"
    },
    {
     "data": {
      "text/html": [
       "<div>\n",
       "<style scoped>\n",
       "    .dataframe tbody tr th:only-of-type {\n",
       "        vertical-align: middle;\n",
       "    }\n",
       "\n",
       "    .dataframe tbody tr th {\n",
       "        vertical-align: top;\n",
       "    }\n",
       "\n",
       "    .dataframe thead th {\n",
       "        text-align: right;\n",
       "    }\n",
       "</style>\n",
       "<table border=\"1\" class=\"dataframe\">\n",
       "  <thead>\n",
       "    <tr style=\"text-align: right;\">\n",
       "      <th></th>\n",
       "      <th>title</th>\n",
       "      <th>genres</th>\n",
       "    </tr>\n",
       "    <tr>\n",
       "      <th>movieId</th>\n",
       "      <th></th>\n",
       "      <th></th>\n",
       "    </tr>\n",
       "  </thead>\n",
       "  <tbody>\n",
       "    <tr>\n",
       "      <th>1</th>\n",
       "      <td>Toy Story (1995)</td>\n",
       "      <td>Adventure|Animation|Children|Comedy|Fantasy</td>\n",
       "    </tr>\n",
       "    <tr>\n",
       "      <th>2</th>\n",
       "      <td>Jumanji (1995)</td>\n",
       "      <td>Adventure|Children|Fantasy</td>\n",
       "    </tr>\n",
       "    <tr>\n",
       "      <th>3</th>\n",
       "      <td>Grumpier Old Men (1995)</td>\n",
       "      <td>Comedy|Romance</td>\n",
       "    </tr>\n",
       "    <tr>\n",
       "      <th>4</th>\n",
       "      <td>Waiting to Exhale (1995)</td>\n",
       "      <td>Comedy|Drama|Romance</td>\n",
       "    </tr>\n",
       "    <tr>\n",
       "      <th>5</th>\n",
       "      <td>Father of the Bride Part II (1995)</td>\n",
       "      <td>Comedy</td>\n",
       "    </tr>\n",
       "  </tbody>\n",
       "</table>\n",
       "</div>"
      ],
      "text/plain": [
       "                                      title  \\\n",
       "movieId                                       \n",
       "1                          Toy Story (1995)   \n",
       "2                            Jumanji (1995)   \n",
       "3                   Grumpier Old Men (1995)   \n",
       "4                  Waiting to Exhale (1995)   \n",
       "5        Father of the Bride Part II (1995)   \n",
       "\n",
       "                                              genres  \n",
       "movieId                                               \n",
       "1        Adventure|Animation|Children|Comedy|Fantasy  \n",
       "2                         Adventure|Children|Fantasy  \n",
       "3                                     Comedy|Romance  \n",
       "4                               Comedy|Drama|Romance  \n",
       "5                                             Comedy  "
      ]
     },
     "metadata": {},
     "output_type": "display_data"
    }
   ],
   "source": [
    "#movies  qui donne la correspondance des titre des films, leur genre avec leur movieId\n",
    "dfmovies=pd.read_csv(\"../data/movies.csv\", sep=',', index_col=\"movieId\")\n",
    "display(dfmovies.info())\n",
    "display(dfmovies.head(5))"
   ]
  },
  {
   "cell_type": "code",
   "execution_count": 5,
   "metadata": {
    "colab": {
     "base_uri": "https://localhost:8080/",
     "height": 421
    },
    "id": "s8Gga4F1ahNR",
    "outputId": "27933a90-63c9-4b0d-9570-292cd51783e7"
   },
   "outputs": [
    {
     "name": "stdout",
     "output_type": "stream",
     "text": [
      "<class 'pandas.core.frame.DataFrame'>\n",
      "RangeIndex: 20000263 entries, 0 to 20000262\n",
      "Data columns (total 4 columns):\n",
      " #   Column     Dtype  \n",
      "---  ------     -----  \n",
      " 0   userId     int64  \n",
      " 1   movieId    int64  \n",
      " 2   rating     float64\n",
      " 3   timestamp  int64  \n",
      "dtypes: float64(1), int64(3)\n",
      "memory usage: 610.4 MB\n"
     ]
    },
    {
     "data": {
      "text/plain": [
       "None"
      ]
     },
     "metadata": {},
     "output_type": "display_data"
    },
    {
     "data": {
      "text/html": [
       "<div>\n",
       "<style scoped>\n",
       "    .dataframe tbody tr th:only-of-type {\n",
       "        vertical-align: middle;\n",
       "    }\n",
       "\n",
       "    .dataframe tbody tr th {\n",
       "        vertical-align: top;\n",
       "    }\n",
       "\n",
       "    .dataframe thead th {\n",
       "        text-align: right;\n",
       "    }\n",
       "</style>\n",
       "<table border=\"1\" class=\"dataframe\">\n",
       "  <thead>\n",
       "    <tr style=\"text-align: right;\">\n",
       "      <th></th>\n",
       "      <th>userId</th>\n",
       "      <th>movieId</th>\n",
       "      <th>rating</th>\n",
       "      <th>timestamp</th>\n",
       "    </tr>\n",
       "  </thead>\n",
       "  <tbody>\n",
       "    <tr>\n",
       "      <th>0</th>\n",
       "      <td>1</td>\n",
       "      <td>2</td>\n",
       "      <td>3.5</td>\n",
       "      <td>1112486027</td>\n",
       "    </tr>\n",
       "    <tr>\n",
       "      <th>1</th>\n",
       "      <td>1</td>\n",
       "      <td>29</td>\n",
       "      <td>3.5</td>\n",
       "      <td>1112484676</td>\n",
       "    </tr>\n",
       "    <tr>\n",
       "      <th>2</th>\n",
       "      <td>1</td>\n",
       "      <td>32</td>\n",
       "      <td>3.5</td>\n",
       "      <td>1112484819</td>\n",
       "    </tr>\n",
       "    <tr>\n",
       "      <th>3</th>\n",
       "      <td>1</td>\n",
       "      <td>47</td>\n",
       "      <td>3.5</td>\n",
       "      <td>1112484727</td>\n",
       "    </tr>\n",
       "    <tr>\n",
       "      <th>4</th>\n",
       "      <td>1</td>\n",
       "      <td>50</td>\n",
       "      <td>3.5</td>\n",
       "      <td>1112484580</td>\n",
       "    </tr>\n",
       "  </tbody>\n",
       "</table>\n",
       "</div>"
      ],
      "text/plain": [
       "   userId  movieId  rating   timestamp\n",
       "0       1        2     3.5  1112486027\n",
       "1       1       29     3.5  1112484676\n",
       "2       1       32     3.5  1112484819\n",
       "3       1       47     3.5  1112484727\n",
       "4       1       50     3.5  1112484580"
      ]
     },
     "metadata": {},
     "output_type": "display_data"
    }
   ],
   "source": [
    "#ratings  qui recence les notes des utilisateurs avec la correspondance des Id des utilisateurs, des Id des films,\n",
    "#la note (rating) et l'instant de la notation (timestamp)\n",
    "\n",
    "dfratings=pd.read_csv(\"../data/ratings.csv\", sep=',')\n",
    "display(dfratings.info())\n",
    "display(dfratings.head(5))"
   ]
  },
  {
   "cell_type": "code",
   "execution_count": 6,
   "metadata": {
    "id": "SHNrFF8L-mtG"
   },
   "outputs": [],
   "source": [
    "#groupby tagId and sum to compute the total relevance by tagId. Desascending sorting to keep only the 50 most relevant. \n",
    "\n",
    "toprelevance = dfgenome.groupby('tagId').agg(sum).sort_values('relevance',ascending=False).head(50).index\n"
   ]
  },
  {
   "cell_type": "code",
   "execution_count": 7,
   "metadata": {
    "id": "nbxxlVbr-x-_"
   },
   "outputs": [],
   "source": [
    "#selection in the main dataframe dfgenome from the grouped dataframe selection above.\n",
    "\n",
    "genome_top = dfgenome[dfgenome['tagId'].isin(toprelevance)]"
   ]
  },
  {
   "cell_type": "code",
   "execution_count": 8,
   "metadata": {
    "colab": {
     "base_uri": "https://localhost:8080/",
     "height": 403
    },
    "id": "CDvDWrHWTm11",
    "outputId": "772d32c9-da18-49e9-8659-d8ceba4c9d9d"
   },
   "outputs": [
    {
     "data": {
      "text/html": [
       "<div>\n",
       "<style scoped>\n",
       "    .dataframe tbody tr th:only-of-type {\n",
       "        vertical-align: middle;\n",
       "    }\n",
       "\n",
       "    .dataframe tbody tr th {\n",
       "        vertical-align: top;\n",
       "    }\n",
       "\n",
       "    .dataframe thead th {\n",
       "        text-align: right;\n",
       "    }\n",
       "</style>\n",
       "<table border=\"1\" class=\"dataframe\">\n",
       "  <thead>\n",
       "    <tr style=\"text-align: right;\">\n",
       "      <th></th>\n",
       "      <th>movieId</th>\n",
       "      <th>tagId</th>\n",
       "      <th>relevance</th>\n",
       "    </tr>\n",
       "  </thead>\n",
       "  <tbody>\n",
       "    <tr>\n",
       "      <th>20</th>\n",
       "      <td>1</td>\n",
       "      <td>21</td>\n",
       "      <td>0.33025</td>\n",
       "    </tr>\n",
       "    <tr>\n",
       "      <th>21</th>\n",
       "      <td>1</td>\n",
       "      <td>22</td>\n",
       "      <td>0.28250</td>\n",
       "    </tr>\n",
       "    <tr>\n",
       "      <th>168</th>\n",
       "      <td>1</td>\n",
       "      <td>169</td>\n",
       "      <td>0.20525</td>\n",
       "    </tr>\n",
       "    <tr>\n",
       "      <th>187</th>\n",
       "      <td>1</td>\n",
       "      <td>188</td>\n",
       "      <td>0.48600</td>\n",
       "    </tr>\n",
       "    <tr>\n",
       "      <th>194</th>\n",
       "      <td>1</td>\n",
       "      <td>195</td>\n",
       "      <td>0.59000</td>\n",
       "    </tr>\n",
       "  </tbody>\n",
       "</table>\n",
       "</div>"
      ],
      "text/plain": [
       "     movieId  tagId  relevance\n",
       "20         1     21    0.33025\n",
       "21         1     22    0.28250\n",
       "168        1    169    0.20525\n",
       "187        1    188    0.48600\n",
       "194        1    195    0.59000"
      ]
     },
     "metadata": {},
     "output_type": "display_data"
    },
    {
     "name": "stdout",
     "output_type": "stream",
     "text": [
      "<class 'pandas.core.frame.DataFrame'>\n",
      "Int64Index: 519050 entries, 20 to 11709743\n",
      "Data columns (total 3 columns):\n",
      " #   Column     Non-Null Count   Dtype  \n",
      "---  ------     --------------   -----  \n",
      " 0   movieId    519050 non-null  int64  \n",
      " 1   tagId      519050 non-null  int64  \n",
      " 2   relevance  519050 non-null  float64\n",
      "dtypes: float64(1), int64(2)\n",
      "memory usage: 15.8 MB\n"
     ]
    },
    {
     "data": {
      "text/plain": [
       "None"
      ]
     },
     "metadata": {},
     "output_type": "display_data"
    }
   ],
   "source": [
    "#check of the tab from the selection\n",
    "\n",
    "display(genome_top.head(5))\n",
    "display(genome_top.info())"
   ]
  },
  {
   "cell_type": "code",
   "execution_count": 9,
   "metadata": {
    "id": "udsf3ogKUBkt"
   },
   "outputs": [],
   "source": [
    "#compression of the selection table by pivot method.\n",
    "genome_top=pd.pivot_table(genome_top, index=\"movieId\",columns=\"tagId\")"
   ]
  },
  {
   "cell_type": "code",
   "execution_count": 10,
   "metadata": {
    "colab": {
     "base_uri": "https://localhost:8080/",
     "height": 1000
    },
    "id": "H5TJq88NekKs",
    "outputId": "961ae41f-b982-4a12-9520-eb38e9350ea9"
   },
   "outputs": [
    {
     "data": {
      "text/html": [
       "<div>\n",
       "<style scoped>\n",
       "    .dataframe tbody tr th:only-of-type {\n",
       "        vertical-align: middle;\n",
       "    }\n",
       "\n",
       "    .dataframe tbody tr th {\n",
       "        vertical-align: top;\n",
       "    }\n",
       "\n",
       "    .dataframe thead tr th {\n",
       "        text-align: left;\n",
       "    }\n",
       "\n",
       "    .dataframe thead tr:last-of-type th {\n",
       "        text-align: right;\n",
       "    }\n",
       "</style>\n",
       "<table border=\"1\" class=\"dataframe\">\n",
       "  <thead>\n",
       "    <tr>\n",
       "      <th></th>\n",
       "      <th colspan=\"21\" halign=\"left\">relevance</th>\n",
       "    </tr>\n",
       "    <tr>\n",
       "      <th>tagId</th>\n",
       "      <th>21</th>\n",
       "      <th>22</th>\n",
       "      <th>169</th>\n",
       "      <th>188</th>\n",
       "      <th>195</th>\n",
       "      <th>203</th>\n",
       "      <th>212</th>\n",
       "      <th>220</th>\n",
       "      <th>240</th>\n",
       "      <th>258</th>\n",
       "      <th>...</th>\n",
       "      <th>972</th>\n",
       "      <th>982</th>\n",
       "      <th>992</th>\n",
       "      <th>999</th>\n",
       "      <th>1008</th>\n",
       "      <th>1051</th>\n",
       "      <th>1064</th>\n",
       "      <th>1070</th>\n",
       "      <th>1091</th>\n",
       "      <th>1104</th>\n",
       "    </tr>\n",
       "    <tr>\n",
       "      <th>movieId</th>\n",
       "      <th></th>\n",
       "      <th></th>\n",
       "      <th></th>\n",
       "      <th></th>\n",
       "      <th></th>\n",
       "      <th></th>\n",
       "      <th></th>\n",
       "      <th></th>\n",
       "      <th></th>\n",
       "      <th></th>\n",
       "      <th></th>\n",
       "      <th></th>\n",
       "      <th></th>\n",
       "      <th></th>\n",
       "      <th></th>\n",
       "      <th></th>\n",
       "      <th></th>\n",
       "      <th></th>\n",
       "      <th></th>\n",
       "      <th></th>\n",
       "      <th></th>\n",
       "    </tr>\n",
       "  </thead>\n",
       "  <tbody>\n",
       "    <tr>\n",
       "      <th>1</th>\n",
       "      <td>0.33025</td>\n",
       "      <td>0.28250</td>\n",
       "      <td>0.20525</td>\n",
       "      <td>0.4860</td>\n",
       "      <td>0.59000</td>\n",
       "      <td>0.92625</td>\n",
       "      <td>0.12350</td>\n",
       "      <td>0.78025</td>\n",
       "      <td>0.35550</td>\n",
       "      <td>0.28625</td>\n",
       "      <td>...</td>\n",
       "      <td>0.75000</td>\n",
       "      <td>0.37550</td>\n",
       "      <td>0.4345</td>\n",
       "      <td>0.49000</td>\n",
       "      <td>0.60950</td>\n",
       "      <td>0.36300</td>\n",
       "      <td>0.42050</td>\n",
       "      <td>0.26150</td>\n",
       "      <td>0.41050</td>\n",
       "      <td>0.29925</td>\n",
       "    </tr>\n",
       "    <tr>\n",
       "      <th>2</th>\n",
       "      <td>0.45100</td>\n",
       "      <td>0.60200</td>\n",
       "      <td>0.22825</td>\n",
       "      <td>0.4865</td>\n",
       "      <td>0.62600</td>\n",
       "      <td>0.87025</td>\n",
       "      <td>0.12975</td>\n",
       "      <td>0.35625</td>\n",
       "      <td>0.11600</td>\n",
       "      <td>0.27550</td>\n",
       "      <td>...</td>\n",
       "      <td>0.31650</td>\n",
       "      <td>0.18225</td>\n",
       "      <td>0.1260</td>\n",
       "      <td>0.44075</td>\n",
       "      <td>0.14825</td>\n",
       "      <td>0.15050</td>\n",
       "      <td>0.22075</td>\n",
       "      <td>0.23475</td>\n",
       "      <td>0.19125</td>\n",
       "      <td>0.31600</td>\n",
       "    </tr>\n",
       "    <tr>\n",
       "      <th>3</th>\n",
       "      <td>0.28000</td>\n",
       "      <td>0.20775</td>\n",
       "      <td>0.29950</td>\n",
       "      <td>0.4405</td>\n",
       "      <td>0.53800</td>\n",
       "      <td>0.34850</td>\n",
       "      <td>0.13750</td>\n",
       "      <td>0.18975</td>\n",
       "      <td>0.23050</td>\n",
       "      <td>0.23075</td>\n",
       "      <td>...</td>\n",
       "      <td>0.28875</td>\n",
       "      <td>0.17350</td>\n",
       "      <td>0.4220</td>\n",
       "      <td>0.26675</td>\n",
       "      <td>0.21175</td>\n",
       "      <td>0.20725</td>\n",
       "      <td>0.21875</td>\n",
       "      <td>0.41825</td>\n",
       "      <td>0.21250</td>\n",
       "      <td>0.16800</td>\n",
       "    </tr>\n",
       "    <tr>\n",
       "      <th>4</th>\n",
       "      <td>0.49875</td>\n",
       "      <td>0.44650</td>\n",
       "      <td>0.31100</td>\n",
       "      <td>0.4185</td>\n",
       "      <td>0.26125</td>\n",
       "      <td>0.24075</td>\n",
       "      <td>0.13425</td>\n",
       "      <td>0.18825</td>\n",
       "      <td>0.13475</td>\n",
       "      <td>0.17200</td>\n",
       "      <td>...</td>\n",
       "      <td>0.33050</td>\n",
       "      <td>0.17175</td>\n",
       "      <td>0.1985</td>\n",
       "      <td>0.18425</td>\n",
       "      <td>0.17600</td>\n",
       "      <td>0.18325</td>\n",
       "      <td>0.28400</td>\n",
       "      <td>0.35950</td>\n",
       "      <td>0.18575</td>\n",
       "      <td>0.17850</td>\n",
       "    </tr>\n",
       "    <tr>\n",
       "      <th>5</th>\n",
       "      <td>0.27575</td>\n",
       "      <td>0.21075</td>\n",
       "      <td>0.27050</td>\n",
       "      <td>0.5545</td>\n",
       "      <td>0.56800</td>\n",
       "      <td>0.39025</td>\n",
       "      <td>0.12300</td>\n",
       "      <td>0.18025</td>\n",
       "      <td>0.21200</td>\n",
       "      <td>0.17975</td>\n",
       "      <td>...</td>\n",
       "      <td>0.27225</td>\n",
       "      <td>0.14450</td>\n",
       "      <td>0.3450</td>\n",
       "      <td>0.23850</td>\n",
       "      <td>0.18300</td>\n",
       "      <td>0.15025</td>\n",
       "      <td>0.21400</td>\n",
       "      <td>0.28475</td>\n",
       "      <td>0.18750</td>\n",
       "      <td>0.26975</td>\n",
       "    </tr>\n",
       "  </tbody>\n",
       "</table>\n",
       "<p>5 rows × 50 columns</p>\n",
       "</div>"
      ],
      "text/plain": [
       "        relevance                                                       \\\n",
       "tagId        21       22       169     188      195      203      212    \n",
       "movieId                                                                  \n",
       "1         0.33025  0.28250  0.20525  0.4860  0.59000  0.92625  0.12350   \n",
       "2         0.45100  0.60200  0.22825  0.4865  0.62600  0.87025  0.12975   \n",
       "3         0.28000  0.20775  0.29950  0.4405  0.53800  0.34850  0.13750   \n",
       "4         0.49875  0.44650  0.31100  0.4185  0.26125  0.24075  0.13425   \n",
       "5         0.27575  0.21075  0.27050  0.5545  0.56800  0.39025  0.12300   \n",
       "\n",
       "                                    ...                                     \\\n",
       "tagId       220      240      258   ...     972      982     992      999    \n",
       "movieId                             ...                                      \n",
       "1        0.78025  0.35550  0.28625  ...  0.75000  0.37550  0.4345  0.49000   \n",
       "2        0.35625  0.11600  0.27550  ...  0.31650  0.18225  0.1260  0.44075   \n",
       "3        0.18975  0.23050  0.23075  ...  0.28875  0.17350  0.4220  0.26675   \n",
       "4        0.18825  0.13475  0.17200  ...  0.33050  0.17175  0.1985  0.18425   \n",
       "5        0.18025  0.21200  0.17975  ...  0.27225  0.14450  0.3450  0.23850   \n",
       "\n",
       "                                                               \n",
       "tagId       1008     1051     1064     1070     1091     1104  \n",
       "movieId                                                        \n",
       "1        0.60950  0.36300  0.42050  0.26150  0.41050  0.29925  \n",
       "2        0.14825  0.15050  0.22075  0.23475  0.19125  0.31600  \n",
       "3        0.21175  0.20725  0.21875  0.41825  0.21250  0.16800  \n",
       "4        0.17600  0.18325  0.28400  0.35950  0.18575  0.17850  \n",
       "5        0.18300  0.15025  0.21400  0.28475  0.18750  0.26975  \n",
       "\n",
       "[5 rows x 50 columns]"
      ]
     },
     "metadata": {},
     "output_type": "display_data"
    },
    {
     "name": "stdout",
     "output_type": "stream",
     "text": [
      "<class 'pandas.core.frame.DataFrame'>\n",
      "Int64Index: 10381 entries, 1 to 131170\n",
      "Data columns (total 50 columns):\n",
      " #   Column             Non-Null Count  Dtype  \n",
      "---  ------             --------------  -----  \n",
      " 0   (relevance, 21)    10381 non-null  float64\n",
      " 1   (relevance, 22)    10381 non-null  float64\n",
      " 2   (relevance, 169)   10381 non-null  float64\n",
      " 3   (relevance, 188)   10381 non-null  float64\n",
      " 4   (relevance, 195)   10381 non-null  float64\n",
      " 5   (relevance, 203)   10381 non-null  float64\n",
      " 6   (relevance, 212)   10381 non-null  float64\n",
      " 7   (relevance, 220)   10381 non-null  float64\n",
      " 8   (relevance, 240)   10381 non-null  float64\n",
      " 9   (relevance, 258)   10381 non-null  float64\n",
      " 10  (relevance, 270)   10381 non-null  float64\n",
      " 11  (relevance, 277)   10381 non-null  float64\n",
      " 12  (relevance, 299)   10381 non-null  float64\n",
      " 13  (relevance, 302)   10381 non-null  float64\n",
      " 14  (relevance, 323)   10381 non-null  float64\n",
      " 15  (relevance, 351)   10381 non-null  float64\n",
      " 16  (relevance, 378)   10381 non-null  float64\n",
      " 17  (relevance, 415)   10381 non-null  float64\n",
      " 18  (relevance, 445)   10381 non-null  float64\n",
      " 19  (relevance, 452)   10381 non-null  float64\n",
      " 20  (relevance, 464)   10381 non-null  float64\n",
      " 21  (relevance, 465)   10381 non-null  float64\n",
      " 22  (relevance, 468)   10381 non-null  float64\n",
      " 23  (relevance, 472)   10381 non-null  float64\n",
      " 24  (relevance, 493)   10381 non-null  float64\n",
      " 25  (relevance, 536)   10381 non-null  float64\n",
      " 26  (relevance, 554)   10381 non-null  float64\n",
      " 27  (relevance, 602)   10381 non-null  float64\n",
      " 28  (relevance, 610)   10381 non-null  float64\n",
      " 29  (relevance, 640)   10381 non-null  float64\n",
      " 30  (relevance, 646)   10381 non-null  float64\n",
      " 31  (relevance, 742)   10381 non-null  float64\n",
      " 32  (relevance, 750)   10381 non-null  float64\n",
      " 33  (relevance, 777)   10381 non-null  float64\n",
      " 34  (relevance, 801)   10381 non-null  float64\n",
      " 35  (relevance, 807)   10381 non-null  float64\n",
      " 36  (relevance, 844)   10381 non-null  float64\n",
      " 37  (relevance, 867)   10381 non-null  float64\n",
      " 38  (relevance, 936)   10381 non-null  float64\n",
      " 39  (relevance, 971)   10381 non-null  float64\n",
      " 40  (relevance, 972)   10381 non-null  float64\n",
      " 41  (relevance, 982)   10381 non-null  float64\n",
      " 42  (relevance, 992)   10381 non-null  float64\n",
      " 43  (relevance, 999)   10381 non-null  float64\n",
      " 44  (relevance, 1008)  10381 non-null  float64\n",
      " 45  (relevance, 1051)  10381 non-null  float64\n",
      " 46  (relevance, 1064)  10381 non-null  float64\n",
      " 47  (relevance, 1070)  10381 non-null  float64\n",
      " 48  (relevance, 1091)  10381 non-null  float64\n",
      " 49  (relevance, 1104)  10381 non-null  float64\n",
      "dtypes: float64(50)\n",
      "memory usage: 4.0 MB\n"
     ]
    },
    {
     "data": {
      "text/plain": [
       "None"
      ]
     },
     "metadata": {},
     "output_type": "display_data"
    }
   ],
   "source": [
    "#check of the tab from the pivot method\n",
    "display(genome_top.head(5))\n",
    "display(genome_top.info())"
   ]
  },
  {
   "cell_type": "markdown",
   "metadata": {
    "id": "CGKZUU_-ZeoT"
   },
   "source": [
    "Clustering of the movies in function of their tag relevancy"
   ]
  },
  {
   "cell_type": "code",
   "execution_count": 11,
   "metadata": {
    "colab": {
     "base_uri": "https://localhost:8080/",
     "height": 75
    },
    "id": "Cr-9aCW21XR4",
    "outputId": "734d629a-209b-4d42-cd93-9e2743b023e0"
   },
   "outputs": [
    {
     "name": "stderr",
     "output_type": "stream",
     "text": [
      "C:\\ProgramData\\Anaconda3\\lib\\site-packages\\sklearn\\utils\\validation.py:1688: FutureWarning: Feature names only support names that are all strings. Got feature names with dtypes: ['tuple']. An error will be raised in 1.2.\n",
      "  warnings.warn(\n"
     ]
    },
    {
     "data": {
      "text/plain": [
       "AgglomerativeClustering(n_clusters=200)"
      ]
     },
     "execution_count": 11,
     "metadata": {},
     "output_type": "execute_result"
    }
   ],
   "source": [
    "clf = AgglomerativeClustering(n_clusters = 200)\n",
    "\n",
    "clf.fit(genome_top)\n",
    "\n"
   ]
  },
  {
   "cell_type": "code",
   "execution_count": 12,
   "metadata": {
    "id": "zRglfSV_2Ik9"
   },
   "outputs": [],
   "source": [
    "#Adding of the cluster labels to our Dataframe genome_top\n",
    "genome_top[\"cluster\"]=clf.labels_\n",
    "    \n"
   ]
  },
  {
   "cell_type": "markdown",
   "metadata": {
    "id": "zUwKfctJqlVY"
   },
   "source": [
    "Evaluation of the relevancy of the clustering by counting the number of \n",
    "\n",
    "occurence of each cluster\n"
   ]
  },
  {
   "cell_type": "code",
   "execution_count": 13,
   "metadata": {
    "colab": {
     "base_uri": "https://localhost:8080/"
    },
    "id": "97XrL6t5rdvP",
    "outputId": "96d0f03c-2277-4040-d7c2-f2e80a74a57e"
   },
   "outputs": [
    {
     "name": "stdout",
     "output_type": "stream",
     "text": [
      "cluster\n",
      "0      270\n",
      "43     259\n",
      "15     197\n",
      "23     187\n",
      "25     166\n",
      "      ... \n",
      "172     17\n",
      "197     17\n",
      "167     16\n",
      "146     15\n",
      "130     14\n",
      "Length: 200, dtype: int64\n"
     ]
    }
   ],
   "source": [
    "#counting the number of occurence of each cluster\n",
    "\n",
    "cluster_repartition=genome_top.value_counts(subset=\"cluster\")\n",
    "print(cluster_repartition)"
   ]
  }
 ],
 "metadata": {
  "colab": {
   "provenance": []
  },
  "kernelspec": {
   "display_name": "Python 3 (ipykernel)",
   "language": "python",
   "name": "python3"
  },
  "language_info": {
   "codemirror_mode": {
    "name": "ipython",
    "version": 3
   },
   "file_extension": ".py",
   "mimetype": "text/x-python",
   "name": "python",
   "nbconvert_exporter": "python",
   "pygments_lexer": "ipython3",
   "version": "3.9.12"
  }
 },
 "nbformat": 4,
 "nbformat_minor": 1
}
