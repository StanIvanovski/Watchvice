{
 "cells": [
  {
   "cell_type": "markdown",
   "metadata": {
    "id": "sDfkn-IuaZ8z"
   },
   "source": [
    "Chargement des Librairies"
   ]
  },
  {
   "cell_type": "code",
   "execution_count": 1,
   "metadata": {
    "id": "nv0fgzNr94xR"
   },
   "outputs": [],
   "source": [
    "#Librairies\n",
    "import pandas as pd\n",
    "import numpy as np\n",
    "%matplotlib inline\n",
    "import matplotlib.pyplot as plt\n",
    "import seaborn as sns\n",
    "sns.set_theme()\n",
    "from sklearn.cluster import AgglomerativeClustering, KMeans"
   ]
  },
  {
   "cell_type": "markdown",
   "metadata": {
    "id": "xKNlyQtdDe_8"
   },
   "source": [
    "Chargement des CSV et affichage des infos"
   ]
  },
  {
   "cell_type": "code",
   "execution_count": 2,
   "metadata": {
    "colab": {
     "base_uri": "https://localhost:8080/",
     "height": 403
    },
    "id": "EPxCOmk6-eUO",
    "outputId": "449fc9ec-c234-4ab2-fb15-2af77557fe46"
   },
   "outputs": [
    {
     "data": {
      "text/html": [
       "<div>\n",
       "<style scoped>\n",
       "    .dataframe tbody tr th:only-of-type {\n",
       "        vertical-align: middle;\n",
       "    }\n",
       "\n",
       "    .dataframe tbody tr th {\n",
       "        vertical-align: top;\n",
       "    }\n",
       "\n",
       "    .dataframe thead th {\n",
       "        text-align: right;\n",
       "    }\n",
       "</style>\n",
       "<table border=\"1\" class=\"dataframe\">\n",
       "  <thead>\n",
       "    <tr style=\"text-align: right;\">\n",
       "      <th></th>\n",
       "      <th>movieId</th>\n",
       "      <th>tagId</th>\n",
       "      <th>relevance</th>\n",
       "    </tr>\n",
       "  </thead>\n",
       "  <tbody>\n",
       "    <tr>\n",
       "      <th>0</th>\n",
       "      <td>1</td>\n",
       "      <td>1</td>\n",
       "      <td>0.02500</td>\n",
       "    </tr>\n",
       "    <tr>\n",
       "      <th>1</th>\n",
       "      <td>1</td>\n",
       "      <td>2</td>\n",
       "      <td>0.02500</td>\n",
       "    </tr>\n",
       "    <tr>\n",
       "      <th>2</th>\n",
       "      <td>1</td>\n",
       "      <td>3</td>\n",
       "      <td>0.05775</td>\n",
       "    </tr>\n",
       "    <tr>\n",
       "      <th>3</th>\n",
       "      <td>1</td>\n",
       "      <td>4</td>\n",
       "      <td>0.09675</td>\n",
       "    </tr>\n",
       "    <tr>\n",
       "      <th>4</th>\n",
       "      <td>1</td>\n",
       "      <td>5</td>\n",
       "      <td>0.14675</td>\n",
       "    </tr>\n",
       "  </tbody>\n",
       "</table>\n",
       "</div>"
      ],
      "text/plain": [
       "   movieId  tagId  relevance\n",
       "0        1      1    0.02500\n",
       "1        1      2    0.02500\n",
       "2        1      3    0.05775\n",
       "3        1      4    0.09675\n",
       "4        1      5    0.14675"
      ]
     },
     "metadata": {},
     "output_type": "display_data"
    },
    {
     "name": "stdout",
     "output_type": "stream",
     "text": [
      "<class 'pandas.core.frame.DataFrame'>\n",
      "RangeIndex: 11709768 entries, 0 to 11709767\n",
      "Data columns (total 3 columns):\n",
      " #   Column     Dtype  \n",
      "---  ------     -----  \n",
      " 0   movieId    int64  \n",
      " 1   tagId      int64  \n",
      " 2   relevance  float64\n",
      "dtypes: float64(1), int64(2)\n",
      "memory usage: 268.0 MB\n"
     ]
    },
    {
     "data": {
      "text/plain": [
       "None"
      ]
     },
     "metadata": {},
     "output_type": "display_data"
    }
   ],
   "source": [
    "#GenomeScores qui donne la relevance par tagIg et par movieId\n",
    "\n",
    "dfgenome=pd.read_csv(\"../data/genome-scores.csv\" )\n",
    "display(dfgenome.head(5))\n",
    "display(dfgenome.info())"
   ]
  },
  {
   "cell_type": "code",
   "execution_count": 3,
   "metadata": {
    "colab": {
     "base_uri": "https://localhost:8080/",
     "height": 398
    },
    "id": "8ZZzSFzm-fUm",
    "outputId": "a5736c8e-af40-4865-b04d-5287f511fe1d"
   },
   "outputs": [
    {
     "data": {
      "text/html": [
       "<div>\n",
       "<style scoped>\n",
       "    .dataframe tbody tr th:only-of-type {\n",
       "        vertical-align: middle;\n",
       "    }\n",
       "\n",
       "    .dataframe tbody tr th {\n",
       "        vertical-align: top;\n",
       "    }\n",
       "\n",
       "    .dataframe thead th {\n",
       "        text-align: right;\n",
       "    }\n",
       "</style>\n",
       "<table border=\"1\" class=\"dataframe\">\n",
       "  <thead>\n",
       "    <tr style=\"text-align: right;\">\n",
       "      <th></th>\n",
       "      <th>tag</th>\n",
       "    </tr>\n",
       "    <tr>\n",
       "      <th>tagId</th>\n",
       "      <th></th>\n",
       "    </tr>\n",
       "  </thead>\n",
       "  <tbody>\n",
       "    <tr>\n",
       "      <th>1</th>\n",
       "      <td>007</td>\n",
       "    </tr>\n",
       "    <tr>\n",
       "      <th>2</th>\n",
       "      <td>007 (series)</td>\n",
       "    </tr>\n",
       "    <tr>\n",
       "      <th>3</th>\n",
       "      <td>18th century</td>\n",
       "    </tr>\n",
       "    <tr>\n",
       "      <th>4</th>\n",
       "      <td>1920s</td>\n",
       "    </tr>\n",
       "    <tr>\n",
       "      <th>5</th>\n",
       "      <td>1930s</td>\n",
       "    </tr>\n",
       "  </tbody>\n",
       "</table>\n",
       "</div>"
      ],
      "text/plain": [
       "                tag\n",
       "tagId              \n",
       "1               007\n",
       "2      007 (series)\n",
       "3      18th century\n",
       "4             1920s\n",
       "5             1930s"
      ]
     },
     "metadata": {},
     "output_type": "display_data"
    },
    {
     "name": "stdout",
     "output_type": "stream",
     "text": [
      "<class 'pandas.core.frame.DataFrame'>\n",
      "Int64Index: 1128 entries, 1 to 1128\n",
      "Data columns (total 1 columns):\n",
      " #   Column  Non-Null Count  Dtype \n",
      "---  ------  --------------  ----- \n",
      " 0   tag     1128 non-null   object\n",
      "dtypes: object(1)\n",
      "memory usage: 17.6+ KB\n"
     ]
    },
    {
     "data": {
      "text/plain": [
       "None"
      ]
     },
     "metadata": {},
     "output_type": "display_data"
    }
   ],
   "source": [
    "#GenomeTags qui donne la correspondance des Tags avec leur TagId\n",
    "dftags=pd.read_csv(\"../data/genome-tags.csv\", index_col=\"tagId\")\n",
    "display(dftags.head(5))\n",
    "display(dftags.info())"
   ]
  },
  {
   "cell_type": "code",
   "execution_count": 4,
   "metadata": {
    "colab": {
     "base_uri": "https://localhost:8080/",
     "height": 416
    },
    "id": "bGIIcIgslycs",
    "outputId": "7b53581e-badc-4237-a506-b642acdbbdd7"
   },
   "outputs": [
    {
     "name": "stdout",
     "output_type": "stream",
     "text": [
      "<class 'pandas.core.frame.DataFrame'>\n",
      "Int64Index: 27278 entries, 1 to 131262\n",
      "Data columns (total 2 columns):\n",
      " #   Column  Non-Null Count  Dtype \n",
      "---  ------  --------------  ----- \n",
      " 0   title   27278 non-null  object\n",
      " 1   genres  27278 non-null  object\n",
      "dtypes: object(2)\n",
      "memory usage: 639.3+ KB\n"
     ]
    },
    {
     "data": {
      "text/plain": [
       "None"
      ]
     },
     "metadata": {},
     "output_type": "display_data"
    },
    {
     "data": {
      "text/html": [
       "<div>\n",
       "<style scoped>\n",
       "    .dataframe tbody tr th:only-of-type {\n",
       "        vertical-align: middle;\n",
       "    }\n",
       "\n",
       "    .dataframe tbody tr th {\n",
       "        vertical-align: top;\n",
       "    }\n",
       "\n",
       "    .dataframe thead th {\n",
       "        text-align: right;\n",
       "    }\n",
       "</style>\n",
       "<table border=\"1\" class=\"dataframe\">\n",
       "  <thead>\n",
       "    <tr style=\"text-align: right;\">\n",
       "      <th></th>\n",
       "      <th>title</th>\n",
       "      <th>genres</th>\n",
       "    </tr>\n",
       "    <tr>\n",
       "      <th>movieId</th>\n",
       "      <th></th>\n",
       "      <th></th>\n",
       "    </tr>\n",
       "  </thead>\n",
       "  <tbody>\n",
       "    <tr>\n",
       "      <th>1</th>\n",
       "      <td>Toy Story (1995)</td>\n",
       "      <td>Adventure|Animation|Children|Comedy|Fantasy</td>\n",
       "    </tr>\n",
       "    <tr>\n",
       "      <th>2</th>\n",
       "      <td>Jumanji (1995)</td>\n",
       "      <td>Adventure|Children|Fantasy</td>\n",
       "    </tr>\n",
       "    <tr>\n",
       "      <th>3</th>\n",
       "      <td>Grumpier Old Men (1995)</td>\n",
       "      <td>Comedy|Romance</td>\n",
       "    </tr>\n",
       "    <tr>\n",
       "      <th>4</th>\n",
       "      <td>Waiting to Exhale (1995)</td>\n",
       "      <td>Comedy|Drama|Romance</td>\n",
       "    </tr>\n",
       "    <tr>\n",
       "      <th>5</th>\n",
       "      <td>Father of the Bride Part II (1995)</td>\n",
       "      <td>Comedy</td>\n",
       "    </tr>\n",
       "  </tbody>\n",
       "</table>\n",
       "</div>"
      ],
      "text/plain": [
       "                                      title  \\\n",
       "movieId                                       \n",
       "1                          Toy Story (1995)   \n",
       "2                            Jumanji (1995)   \n",
       "3                   Grumpier Old Men (1995)   \n",
       "4                  Waiting to Exhale (1995)   \n",
       "5        Father of the Bride Part II (1995)   \n",
       "\n",
       "                                              genres  \n",
       "movieId                                               \n",
       "1        Adventure|Animation|Children|Comedy|Fantasy  \n",
       "2                         Adventure|Children|Fantasy  \n",
       "3                                     Comedy|Romance  \n",
       "4                               Comedy|Drama|Romance  \n",
       "5                                             Comedy  "
      ]
     },
     "metadata": {},
     "output_type": "display_data"
    }
   ],
   "source": [
    "#movies  qui donne la correspondance des titre des films, leur genre avec leur movieId\n",
    "dfmovies=pd.read_csv(\"../data/movies.csv\", sep=',', index_col=\"movieId\")\n",
    "display(dfmovies.info())\n",
    "display(dfmovies.head(5))"
   ]
  },
  {
   "cell_type": "code",
   "execution_count": 5,
   "metadata": {
    "colab": {
     "base_uri": "https://localhost:8080/",
     "height": 485
    },
    "id": "s8Gga4F1ahNR",
    "outputId": "a5c049c6-a4e7-406d-d6e4-2ad29c397a8b"
   },
   "outputs": [
    {
     "name": "stdout",
     "output_type": "stream",
     "text": [
      "<class 'pandas.core.frame.DataFrame'>\n",
      "RangeIndex: 20000263 entries, 0 to 20000262\n",
      "Data columns (total 4 columns):\n",
      " #   Column     Dtype  \n",
      "---  ------     -----  \n",
      " 0   userId     int64  \n",
      " 1   movieId    int64  \n",
      " 2   rating     float64\n",
      " 3   timestamp  int64  \n",
      "dtypes: float64(1), int64(3)\n",
      "memory usage: 610.4 MB\n"
     ]
    },
    {
     "data": {
      "text/plain": [
       "None"
      ]
     },
     "metadata": {},
     "output_type": "display_data"
    },
    {
     "data": {
      "text/html": [
       "<div>\n",
       "<style scoped>\n",
       "    .dataframe tbody tr th:only-of-type {\n",
       "        vertical-align: middle;\n",
       "    }\n",
       "\n",
       "    .dataframe tbody tr th {\n",
       "        vertical-align: top;\n",
       "    }\n",
       "\n",
       "    .dataframe thead th {\n",
       "        text-align: right;\n",
       "    }\n",
       "</style>\n",
       "<table border=\"1\" class=\"dataframe\">\n",
       "  <thead>\n",
       "    <tr style=\"text-align: right;\">\n",
       "      <th></th>\n",
       "      <th>userId</th>\n",
       "      <th>movieId</th>\n",
       "      <th>rating</th>\n",
       "      <th>timestamp</th>\n",
       "    </tr>\n",
       "  </thead>\n",
       "  <tbody>\n",
       "    <tr>\n",
       "      <th>0</th>\n",
       "      <td>1</td>\n",
       "      <td>2</td>\n",
       "      <td>3.5</td>\n",
       "      <td>1112486027</td>\n",
       "    </tr>\n",
       "    <tr>\n",
       "      <th>1</th>\n",
       "      <td>1</td>\n",
       "      <td>29</td>\n",
       "      <td>3.5</td>\n",
       "      <td>1112484676</td>\n",
       "    </tr>\n",
       "    <tr>\n",
       "      <th>2</th>\n",
       "      <td>1</td>\n",
       "      <td>32</td>\n",
       "      <td>3.5</td>\n",
       "      <td>1112484819</td>\n",
       "    </tr>\n",
       "    <tr>\n",
       "      <th>3</th>\n",
       "      <td>1</td>\n",
       "      <td>47</td>\n",
       "      <td>3.5</td>\n",
       "      <td>1112484727</td>\n",
       "    </tr>\n",
       "    <tr>\n",
       "      <th>4</th>\n",
       "      <td>1</td>\n",
       "      <td>50</td>\n",
       "      <td>3.5</td>\n",
       "      <td>1112484580</td>\n",
       "    </tr>\n",
       "  </tbody>\n",
       "</table>\n",
       "</div>"
      ],
      "text/plain": [
       "   userId  movieId  rating   timestamp\n",
       "0       1        2     3.5  1112486027\n",
       "1       1       29     3.5  1112484676\n",
       "2       1       32     3.5  1112484819\n",
       "3       1       47     3.5  1112484727\n",
       "4       1       50     3.5  1112484580"
      ]
     },
     "metadata": {},
     "output_type": "display_data"
    }
   ],
   "source": [
    "#ratings  qui recence les notes des utilisateurs avec la correspondance des Id des utilisateurs, des Id des films,\n",
    "#la note (rating) et l'instant de la notation (timestamp)\n",
    "\n",
    "dfratings=pd.read_csv(\"../data/ratings.csv\", sep=',')\n",
    "display(dfratings.info())\n",
    "display(dfratings.head(5))"
   ]
  },
  {
   "cell_type": "markdown",
   "metadata": {
    "id": "lZ8KLV5OXTgB"
   },
   "source": [
    "Adding a column with the year of the movie in dfmovies tab"
   ]
  },
  {
   "cell_type": "code",
   "execution_count": 6,
   "metadata": {
    "colab": {
     "base_uri": "https://localhost:8080/",
     "height": 345
    },
    "id": "E8q8kq80Y0He",
    "outputId": "85f34761-b63b-471a-976e-6a633ad59cfc"
   },
   "outputs": [
    {
     "data": {
      "text/html": [
       "<div>\n",
       "<style scoped>\n",
       "    .dataframe tbody tr th:only-of-type {\n",
       "        vertical-align: middle;\n",
       "    }\n",
       "\n",
       "    .dataframe tbody tr th {\n",
       "        vertical-align: top;\n",
       "    }\n",
       "\n",
       "    .dataframe thead th {\n",
       "        text-align: right;\n",
       "    }\n",
       "</style>\n",
       "<table border=\"1\" class=\"dataframe\">\n",
       "  <thead>\n",
       "    <tr style=\"text-align: right;\">\n",
       "      <th></th>\n",
       "      <th>title</th>\n",
       "      <th>genres</th>\n",
       "      <th>year</th>\n",
       "    </tr>\n",
       "    <tr>\n",
       "      <th>movieId</th>\n",
       "      <th></th>\n",
       "      <th></th>\n",
       "      <th></th>\n",
       "    </tr>\n",
       "  </thead>\n",
       "  <tbody>\n",
       "    <tr>\n",
       "      <th>1</th>\n",
       "      <td>Toy Story (1995)</td>\n",
       "      <td>Adventure|Animation|Children|Comedy|Fantasy</td>\n",
       "      <td>1995</td>\n",
       "    </tr>\n",
       "    <tr>\n",
       "      <th>2</th>\n",
       "      <td>Jumanji (1995)</td>\n",
       "      <td>Adventure|Children|Fantasy</td>\n",
       "      <td>1995</td>\n",
       "    </tr>\n",
       "    <tr>\n",
       "      <th>3</th>\n",
       "      <td>Grumpier Old Men (1995)</td>\n",
       "      <td>Comedy|Romance</td>\n",
       "      <td>1995</td>\n",
       "    </tr>\n",
       "    <tr>\n",
       "      <th>4</th>\n",
       "      <td>Waiting to Exhale (1995)</td>\n",
       "      <td>Comedy|Drama|Romance</td>\n",
       "      <td>1995</td>\n",
       "    </tr>\n",
       "    <tr>\n",
       "      <th>5</th>\n",
       "      <td>Father of the Bride Part II (1995)</td>\n",
       "      <td>Comedy</td>\n",
       "      <td>1995</td>\n",
       "    </tr>\n",
       "  </tbody>\n",
       "</table>\n",
       "</div>"
      ],
      "text/plain": [
       "                                      title  \\\n",
       "movieId                                       \n",
       "1                          Toy Story (1995)   \n",
       "2                            Jumanji (1995)   \n",
       "3                   Grumpier Old Men (1995)   \n",
       "4                  Waiting to Exhale (1995)   \n",
       "5        Father of the Bride Part II (1995)   \n",
       "\n",
       "                                              genres  year  \n",
       "movieId                                                     \n",
       "1        Adventure|Animation|Children|Comedy|Fantasy  1995  \n",
       "2                         Adventure|Children|Fantasy  1995  \n",
       "3                                     Comedy|Romance  1995  \n",
       "4                               Comedy|Drama|Romance  1995  \n",
       "5                                             Comedy  1995  "
      ]
     },
     "execution_count": 6,
     "metadata": {},
     "output_type": "execute_result"
    }
   ],
   "source": [
    "#selection of the end of the title\n",
    "dfmovies[\"year\"]=dfmovies[\"title\"].str.slice(start=-6)\n",
    "#slit of \"()\"\n",
    "dfmovies[\"year\"]=dfmovies[\"year\"].str.split(pat=\"(\",expand=True)[1].str.split(pat=\")\",expand=True)[0]\n",
    "\n",
    "#dropna of the not-conform title\n",
    "dfmovies=dfmovies.dropna()\n",
    "\n",
    "#conversion to int of the year\n",
    "dfmovies[\"year\"]=dfmovies[\"year\"].astype(int)\n",
    "dfmovies.head()"
   ]
  },
  {
   "cell_type": "markdown",
   "metadata": {
    "id": "YyyPOYljN43e"
   },
   "source": [
    "We check that the year is well converted into int"
   ]
  },
  {
   "cell_type": "code",
   "execution_count": 7,
   "metadata": {
    "colab": {
     "base_uri": "https://localhost:8080/"
    },
    "id": "KhQErETmNnWc",
    "outputId": "d400d126-b40f-4dab-f747-e137b2cfcd96"
   },
   "outputs": [
    {
     "name": "stdout",
     "output_type": "stream",
     "text": [
      "<class 'pandas.core.frame.DataFrame'>\n",
      "Int64Index: 27049 entries, 1 to 131262\n",
      "Data columns (total 3 columns):\n",
      " #   Column  Non-Null Count  Dtype \n",
      "---  ------  --------------  ----- \n",
      " 0   title   27049 non-null  object\n",
      " 1   genres  27049 non-null  object\n",
      " 2   year    27049 non-null  int32 \n",
      "dtypes: int32(1), object(2)\n",
      "memory usage: 739.6+ KB\n"
     ]
    }
   ],
   "source": [
    "#info on df movies\n",
    "dfmovies.info()"
   ]
  },
  {
   "cell_type": "markdown",
   "metadata": {
    "id": "hbZP2l09N-9t"
   },
   "source": [
    "We use the year to insert a coefficient to prefer recent movies"
   ]
  },
  {
   "cell_type": "code",
   "execution_count": 8,
   "metadata": {
    "colab": {
     "base_uri": "https://localhost:8080/"
    },
    "id": "i6dYsrP-O7E3",
    "outputId": "452c29de-15af-4dda-a794-a2038155be4e"
   },
   "outputs": [],
   "source": [
    "#creation of the coefficient from movie ages\n",
    "dfmovies[\"coef_age\"]=np.log((dfmovies[\"year\"]-dfmovies[\"year\"].min())+1)"
   ]
  },
  {
   "cell_type": "code",
   "execution_count": 9,
   "metadata": {
    "colab": {
     "base_uri": "https://localhost:8080/",
     "height": 1000
    },
    "id": "Ntl_Z8F4P6yh",
    "outputId": "28648c32-972c-4853-df6a-2e81e8d7a330",
    "scrolled": true
   },
   "outputs": [
    {
     "data": {
      "text/html": [
       "<div>\n",
       "<style scoped>\n",
       "    .dataframe tbody tr th:only-of-type {\n",
       "        vertical-align: middle;\n",
       "    }\n",
       "\n",
       "    .dataframe tbody tr th {\n",
       "        vertical-align: top;\n",
       "    }\n",
       "\n",
       "    .dataframe thead th {\n",
       "        text-align: right;\n",
       "    }\n",
       "</style>\n",
       "<table border=\"1\" class=\"dataframe\">\n",
       "  <thead>\n",
       "    <tr style=\"text-align: right;\">\n",
       "      <th></th>\n",
       "      <th>title</th>\n",
       "      <th>genres</th>\n",
       "      <th>year</th>\n",
       "      <th>coef_age</th>\n",
       "    </tr>\n",
       "    <tr>\n",
       "      <th>movieId</th>\n",
       "      <th></th>\n",
       "      <th></th>\n",
       "      <th></th>\n",
       "      <th></th>\n",
       "    </tr>\n",
       "  </thead>\n",
       "  <tbody>\n",
       "    <tr>\n",
       "      <th>1</th>\n",
       "      <td>Toy Story (1995)</td>\n",
       "      <td>Adventure|Animation|Children|Comedy|Fantasy</td>\n",
       "      <td>1995</td>\n",
       "      <td>4.653960</td>\n",
       "    </tr>\n",
       "    <tr>\n",
       "      <th>2</th>\n",
       "      <td>Jumanji (1995)</td>\n",
       "      <td>Adventure|Children|Fantasy</td>\n",
       "      <td>1995</td>\n",
       "      <td>4.653960</td>\n",
       "    </tr>\n",
       "    <tr>\n",
       "      <th>3</th>\n",
       "      <td>Grumpier Old Men (1995)</td>\n",
       "      <td>Comedy|Romance</td>\n",
       "      <td>1995</td>\n",
       "      <td>4.653960</td>\n",
       "    </tr>\n",
       "    <tr>\n",
       "      <th>4</th>\n",
       "      <td>Waiting to Exhale (1995)</td>\n",
       "      <td>Comedy|Drama|Romance</td>\n",
       "      <td>1995</td>\n",
       "      <td>4.653960</td>\n",
       "    </tr>\n",
       "    <tr>\n",
       "      <th>5</th>\n",
       "      <td>Father of the Bride Part II (1995)</td>\n",
       "      <td>Comedy</td>\n",
       "      <td>1995</td>\n",
       "      <td>4.653960</td>\n",
       "    </tr>\n",
       "    <tr>\n",
       "      <th>6</th>\n",
       "      <td>Heat (1995)</td>\n",
       "      <td>Action|Crime|Thriller</td>\n",
       "      <td>1995</td>\n",
       "      <td>4.653960</td>\n",
       "    </tr>\n",
       "    <tr>\n",
       "      <th>7</th>\n",
       "      <td>Sabrina (1995)</td>\n",
       "      <td>Comedy|Romance</td>\n",
       "      <td>1995</td>\n",
       "      <td>4.653960</td>\n",
       "    </tr>\n",
       "    <tr>\n",
       "      <th>8</th>\n",
       "      <td>Tom and Huck (1995)</td>\n",
       "      <td>Adventure|Children</td>\n",
       "      <td>1995</td>\n",
       "      <td>4.653960</td>\n",
       "    </tr>\n",
       "    <tr>\n",
       "      <th>9</th>\n",
       "      <td>Sudden Death (1995)</td>\n",
       "      <td>Action</td>\n",
       "      <td>1995</td>\n",
       "      <td>4.653960</td>\n",
       "    </tr>\n",
       "    <tr>\n",
       "      <th>10</th>\n",
       "      <td>GoldenEye (1995)</td>\n",
       "      <td>Action|Adventure|Thriller</td>\n",
       "      <td>1995</td>\n",
       "      <td>4.653960</td>\n",
       "    </tr>\n",
       "    <tr>\n",
       "      <th>11</th>\n",
       "      <td>American President, The (1995)</td>\n",
       "      <td>Comedy|Drama|Romance</td>\n",
       "      <td>1995</td>\n",
       "      <td>4.653960</td>\n",
       "    </tr>\n",
       "    <tr>\n",
       "      <th>12</th>\n",
       "      <td>Dracula: Dead and Loving It (1995)</td>\n",
       "      <td>Comedy|Horror</td>\n",
       "      <td>1995</td>\n",
       "      <td>4.653960</td>\n",
       "    </tr>\n",
       "    <tr>\n",
       "      <th>13</th>\n",
       "      <td>Balto (1995)</td>\n",
       "      <td>Adventure|Animation|Children</td>\n",
       "      <td>1995</td>\n",
       "      <td>4.653960</td>\n",
       "    </tr>\n",
       "    <tr>\n",
       "      <th>14</th>\n",
       "      <td>Nixon (1995)</td>\n",
       "      <td>Drama</td>\n",
       "      <td>1995</td>\n",
       "      <td>4.653960</td>\n",
       "    </tr>\n",
       "    <tr>\n",
       "      <th>15</th>\n",
       "      <td>Cutthroat Island (1995)</td>\n",
       "      <td>Action|Adventure|Romance</td>\n",
       "      <td>1995</td>\n",
       "      <td>4.653960</td>\n",
       "    </tr>\n",
       "    <tr>\n",
       "      <th>16</th>\n",
       "      <td>Casino (1995)</td>\n",
       "      <td>Crime|Drama</td>\n",
       "      <td>1995</td>\n",
       "      <td>4.653960</td>\n",
       "    </tr>\n",
       "    <tr>\n",
       "      <th>17</th>\n",
       "      <td>Sense and Sensibility (1995)</td>\n",
       "      <td>Drama|Romance</td>\n",
       "      <td>1995</td>\n",
       "      <td>4.653960</td>\n",
       "    </tr>\n",
       "    <tr>\n",
       "      <th>18</th>\n",
       "      <td>Four Rooms (1995)</td>\n",
       "      <td>Comedy</td>\n",
       "      <td>1995</td>\n",
       "      <td>4.653960</td>\n",
       "    </tr>\n",
       "    <tr>\n",
       "      <th>19</th>\n",
       "      <td>Ace Ventura: When Nature Calls (1995)</td>\n",
       "      <td>Comedy</td>\n",
       "      <td>1995</td>\n",
       "      <td>4.653960</td>\n",
       "    </tr>\n",
       "    <tr>\n",
       "      <th>20</th>\n",
       "      <td>Money Train (1995)</td>\n",
       "      <td>Action|Comedy|Crime|Drama|Thriller</td>\n",
       "      <td>1995</td>\n",
       "      <td>4.653960</td>\n",
       "    </tr>\n",
       "    <tr>\n",
       "      <th>21</th>\n",
       "      <td>Get Shorty (1995)</td>\n",
       "      <td>Comedy|Crime|Thriller</td>\n",
       "      <td>1995</td>\n",
       "      <td>4.653960</td>\n",
       "    </tr>\n",
       "    <tr>\n",
       "      <th>22</th>\n",
       "      <td>Copycat (1995)</td>\n",
       "      <td>Crime|Drama|Horror|Mystery|Thriller</td>\n",
       "      <td>1995</td>\n",
       "      <td>4.653960</td>\n",
       "    </tr>\n",
       "    <tr>\n",
       "      <th>23</th>\n",
       "      <td>Assassins (1995)</td>\n",
       "      <td>Action|Crime|Thriller</td>\n",
       "      <td>1995</td>\n",
       "      <td>4.653960</td>\n",
       "    </tr>\n",
       "    <tr>\n",
       "      <th>24</th>\n",
       "      <td>Powder (1995)</td>\n",
       "      <td>Drama|Sci-Fi</td>\n",
       "      <td>1995</td>\n",
       "      <td>4.653960</td>\n",
       "    </tr>\n",
       "    <tr>\n",
       "      <th>25</th>\n",
       "      <td>Leaving Las Vegas (1995)</td>\n",
       "      <td>Drama|Romance</td>\n",
       "      <td>1995</td>\n",
       "      <td>4.653960</td>\n",
       "    </tr>\n",
       "    <tr>\n",
       "      <th>26</th>\n",
       "      <td>Othello (1995)</td>\n",
       "      <td>Drama</td>\n",
       "      <td>1995</td>\n",
       "      <td>4.653960</td>\n",
       "    </tr>\n",
       "    <tr>\n",
       "      <th>27</th>\n",
       "      <td>Now and Then (1995)</td>\n",
       "      <td>Children|Drama</td>\n",
       "      <td>1995</td>\n",
       "      <td>4.653960</td>\n",
       "    </tr>\n",
       "    <tr>\n",
       "      <th>28</th>\n",
       "      <td>Persuasion (1995)</td>\n",
       "      <td>Drama|Romance</td>\n",
       "      <td>1995</td>\n",
       "      <td>4.653960</td>\n",
       "    </tr>\n",
       "    <tr>\n",
       "      <th>29</th>\n",
       "      <td>City of Lost Children, The (Cité des enfants p...</td>\n",
       "      <td>Adventure|Drama|Fantasy|Mystery|Sci-Fi</td>\n",
       "      <td>1995</td>\n",
       "      <td>4.653960</td>\n",
       "    </tr>\n",
       "    <tr>\n",
       "      <th>30</th>\n",
       "      <td>Shanghai Triad (Yao a yao yao dao waipo qiao) ...</td>\n",
       "      <td>Crime|Drama</td>\n",
       "      <td>1995</td>\n",
       "      <td>4.653960</td>\n",
       "    </tr>\n",
       "    <tr>\n",
       "      <th>31</th>\n",
       "      <td>Dangerous Minds (1995)</td>\n",
       "      <td>Drama</td>\n",
       "      <td>1995</td>\n",
       "      <td>4.653960</td>\n",
       "    </tr>\n",
       "    <tr>\n",
       "      <th>32</th>\n",
       "      <td>Twelve Monkeys (a.k.a. 12 Monkeys) (1995)</td>\n",
       "      <td>Mystery|Sci-Fi|Thriller</td>\n",
       "      <td>1995</td>\n",
       "      <td>4.653960</td>\n",
       "    </tr>\n",
       "    <tr>\n",
       "      <th>33</th>\n",
       "      <td>Wings of Courage (1995)</td>\n",
       "      <td>Adventure|Romance|IMAX</td>\n",
       "      <td>1995</td>\n",
       "      <td>4.653960</td>\n",
       "    </tr>\n",
       "    <tr>\n",
       "      <th>34</th>\n",
       "      <td>Babe (1995)</td>\n",
       "      <td>Children|Drama</td>\n",
       "      <td>1995</td>\n",
       "      <td>4.653960</td>\n",
       "    </tr>\n",
       "    <tr>\n",
       "      <th>35</th>\n",
       "      <td>Carrington (1995)</td>\n",
       "      <td>Drama|Romance</td>\n",
       "      <td>1995</td>\n",
       "      <td>4.653960</td>\n",
       "    </tr>\n",
       "    <tr>\n",
       "      <th>36</th>\n",
       "      <td>Dead Man Walking (1995)</td>\n",
       "      <td>Crime|Drama</td>\n",
       "      <td>1995</td>\n",
       "      <td>4.653960</td>\n",
       "    </tr>\n",
       "    <tr>\n",
       "      <th>37</th>\n",
       "      <td>Across the Sea of Time (1995)</td>\n",
       "      <td>Documentary|IMAX</td>\n",
       "      <td>1995</td>\n",
       "      <td>4.653960</td>\n",
       "    </tr>\n",
       "    <tr>\n",
       "      <th>38</th>\n",
       "      <td>It Takes Two (1995)</td>\n",
       "      <td>Children|Comedy</td>\n",
       "      <td>1995</td>\n",
       "      <td>4.653960</td>\n",
       "    </tr>\n",
       "    <tr>\n",
       "      <th>39</th>\n",
       "      <td>Clueless (1995)</td>\n",
       "      <td>Comedy|Romance</td>\n",
       "      <td>1995</td>\n",
       "      <td>4.653960</td>\n",
       "    </tr>\n",
       "    <tr>\n",
       "      <th>40</th>\n",
       "      <td>Cry, the Beloved Country (1995)</td>\n",
       "      <td>Drama</td>\n",
       "      <td>1995</td>\n",
       "      <td>4.653960</td>\n",
       "    </tr>\n",
       "    <tr>\n",
       "      <th>41</th>\n",
       "      <td>Richard III (1995)</td>\n",
       "      <td>Drama|War</td>\n",
       "      <td>1995</td>\n",
       "      <td>4.653960</td>\n",
       "    </tr>\n",
       "    <tr>\n",
       "      <th>42</th>\n",
       "      <td>Dead Presidents (1995)</td>\n",
       "      <td>Action|Crime|Drama</td>\n",
       "      <td>1995</td>\n",
       "      <td>4.653960</td>\n",
       "    </tr>\n",
       "    <tr>\n",
       "      <th>43</th>\n",
       "      <td>Restoration (1995)</td>\n",
       "      <td>Drama</td>\n",
       "      <td>1995</td>\n",
       "      <td>4.653960</td>\n",
       "    </tr>\n",
       "    <tr>\n",
       "      <th>44</th>\n",
       "      <td>Mortal Kombat (1995)</td>\n",
       "      <td>Action|Adventure|Fantasy</td>\n",
       "      <td>1995</td>\n",
       "      <td>4.653960</td>\n",
       "    </tr>\n",
       "    <tr>\n",
       "      <th>45</th>\n",
       "      <td>To Die For (1995)</td>\n",
       "      <td>Comedy|Drama|Thriller</td>\n",
       "      <td>1995</td>\n",
       "      <td>4.653960</td>\n",
       "    </tr>\n",
       "    <tr>\n",
       "      <th>46</th>\n",
       "      <td>How to Make an American Quilt (1995)</td>\n",
       "      <td>Drama|Romance</td>\n",
       "      <td>1995</td>\n",
       "      <td>4.653960</td>\n",
       "    </tr>\n",
       "    <tr>\n",
       "      <th>47</th>\n",
       "      <td>Seven (a.k.a. Se7en) (1995)</td>\n",
       "      <td>Mystery|Thriller</td>\n",
       "      <td>1995</td>\n",
       "      <td>4.653960</td>\n",
       "    </tr>\n",
       "    <tr>\n",
       "      <th>48</th>\n",
       "      <td>Pocahontas (1995)</td>\n",
       "      <td>Animation|Children|Drama|Musical|Romance</td>\n",
       "      <td>1995</td>\n",
       "      <td>4.653960</td>\n",
       "    </tr>\n",
       "    <tr>\n",
       "      <th>49</th>\n",
       "      <td>When Night Is Falling (1995)</td>\n",
       "      <td>Drama|Romance</td>\n",
       "      <td>1995</td>\n",
       "      <td>4.653960</td>\n",
       "    </tr>\n",
       "    <tr>\n",
       "      <th>50</th>\n",
       "      <td>Usual Suspects, The (1995)</td>\n",
       "      <td>Crime|Mystery|Thriller</td>\n",
       "      <td>1995</td>\n",
       "      <td>4.653960</td>\n",
       "    </tr>\n",
       "    <tr>\n",
       "      <th>51</th>\n",
       "      <td>Guardian Angel (1994)</td>\n",
       "      <td>Action|Drama|Thriller</td>\n",
       "      <td>1994</td>\n",
       "      <td>4.644391</td>\n",
       "    </tr>\n",
       "    <tr>\n",
       "      <th>52</th>\n",
       "      <td>Mighty Aphrodite (1995)</td>\n",
       "      <td>Comedy|Drama|Romance</td>\n",
       "      <td>1995</td>\n",
       "      <td>4.653960</td>\n",
       "    </tr>\n",
       "    <tr>\n",
       "      <th>53</th>\n",
       "      <td>Lamerica (1994)</td>\n",
       "      <td>Adventure|Drama</td>\n",
       "      <td>1994</td>\n",
       "      <td>4.644391</td>\n",
       "    </tr>\n",
       "    <tr>\n",
       "      <th>54</th>\n",
       "      <td>Big Green, The (1995)</td>\n",
       "      <td>Children|Comedy</td>\n",
       "      <td>1995</td>\n",
       "      <td>4.653960</td>\n",
       "    </tr>\n",
       "    <tr>\n",
       "      <th>55</th>\n",
       "      <td>Georgia (1995)</td>\n",
       "      <td>Drama</td>\n",
       "      <td>1995</td>\n",
       "      <td>4.653960</td>\n",
       "    </tr>\n",
       "    <tr>\n",
       "      <th>56</th>\n",
       "      <td>Kids of the Round Table (1995)</td>\n",
       "      <td>Adventure|Children|Fantasy</td>\n",
       "      <td>1995</td>\n",
       "      <td>4.653960</td>\n",
       "    </tr>\n",
       "    <tr>\n",
       "      <th>57</th>\n",
       "      <td>Home for the Holidays (1995)</td>\n",
       "      <td>Drama</td>\n",
       "      <td>1995</td>\n",
       "      <td>4.653960</td>\n",
       "    </tr>\n",
       "    <tr>\n",
       "      <th>58</th>\n",
       "      <td>Postman, The (Postino, Il) (1994)</td>\n",
       "      <td>Comedy|Drama|Romance</td>\n",
       "      <td>1994</td>\n",
       "      <td>4.644391</td>\n",
       "    </tr>\n",
       "    <tr>\n",
       "      <th>59</th>\n",
       "      <td>Confessional, The (Confessionnal, Le) (1995)</td>\n",
       "      <td>Drama|Mystery</td>\n",
       "      <td>1995</td>\n",
       "      <td>4.653960</td>\n",
       "    </tr>\n",
       "    <tr>\n",
       "      <th>60</th>\n",
       "      <td>Indian in the Cupboard, The (1995)</td>\n",
       "      <td>Adventure|Children|Fantasy</td>\n",
       "      <td>1995</td>\n",
       "      <td>4.653960</td>\n",
       "    </tr>\n",
       "  </tbody>\n",
       "</table>\n",
       "</div>"
      ],
      "text/plain": [
       "                                                     title  \\\n",
       "movieId                                                      \n",
       "1                                         Toy Story (1995)   \n",
       "2                                           Jumanji (1995)   \n",
       "3                                  Grumpier Old Men (1995)   \n",
       "4                                 Waiting to Exhale (1995)   \n",
       "5                       Father of the Bride Part II (1995)   \n",
       "6                                              Heat (1995)   \n",
       "7                                           Sabrina (1995)   \n",
       "8                                      Tom and Huck (1995)   \n",
       "9                                      Sudden Death (1995)   \n",
       "10                                        GoldenEye (1995)   \n",
       "11                          American President, The (1995)   \n",
       "12                      Dracula: Dead and Loving It (1995)   \n",
       "13                                            Balto (1995)   \n",
       "14                                            Nixon (1995)   \n",
       "15                                 Cutthroat Island (1995)   \n",
       "16                                           Casino (1995)   \n",
       "17                            Sense and Sensibility (1995)   \n",
       "18                                       Four Rooms (1995)   \n",
       "19                   Ace Ventura: When Nature Calls (1995)   \n",
       "20                                      Money Train (1995)   \n",
       "21                                       Get Shorty (1995)   \n",
       "22                                          Copycat (1995)   \n",
       "23                                        Assassins (1995)   \n",
       "24                                           Powder (1995)   \n",
       "25                                Leaving Las Vegas (1995)   \n",
       "26                                          Othello (1995)   \n",
       "27                                     Now and Then (1995)   \n",
       "28                                       Persuasion (1995)   \n",
       "29       City of Lost Children, The (Cité des enfants p...   \n",
       "30       Shanghai Triad (Yao a yao yao dao waipo qiao) ...   \n",
       "31                                  Dangerous Minds (1995)   \n",
       "32               Twelve Monkeys (a.k.a. 12 Monkeys) (1995)   \n",
       "33                                 Wings of Courage (1995)   \n",
       "34                                             Babe (1995)   \n",
       "35                                       Carrington (1995)   \n",
       "36                                 Dead Man Walking (1995)   \n",
       "37                           Across the Sea of Time (1995)   \n",
       "38                                     It Takes Two (1995)   \n",
       "39                                         Clueless (1995)   \n",
       "40                         Cry, the Beloved Country (1995)   \n",
       "41                                      Richard III (1995)   \n",
       "42                                  Dead Presidents (1995)   \n",
       "43                                      Restoration (1995)   \n",
       "44                                    Mortal Kombat (1995)   \n",
       "45                                       To Die For (1995)   \n",
       "46                    How to Make an American Quilt (1995)   \n",
       "47                             Seven (a.k.a. Se7en) (1995)   \n",
       "48                                       Pocahontas (1995)   \n",
       "49                            When Night Is Falling (1995)   \n",
       "50                              Usual Suspects, The (1995)   \n",
       "51                                   Guardian Angel (1994)   \n",
       "52                                 Mighty Aphrodite (1995)   \n",
       "53                                         Lamerica (1994)   \n",
       "54                                   Big Green, The (1995)   \n",
       "55                                          Georgia (1995)   \n",
       "56                          Kids of the Round Table (1995)   \n",
       "57                            Home for the Holidays (1995)   \n",
       "58                       Postman, The (Postino, Il) (1994)   \n",
       "59            Confessional, The (Confessionnal, Le) (1995)   \n",
       "60                      Indian in the Cupboard, The (1995)   \n",
       "\n",
       "                                              genres  year  coef_age  \n",
       "movieId                                                               \n",
       "1        Adventure|Animation|Children|Comedy|Fantasy  1995  4.653960  \n",
       "2                         Adventure|Children|Fantasy  1995  4.653960  \n",
       "3                                     Comedy|Romance  1995  4.653960  \n",
       "4                               Comedy|Drama|Romance  1995  4.653960  \n",
       "5                                             Comedy  1995  4.653960  \n",
       "6                              Action|Crime|Thriller  1995  4.653960  \n",
       "7                                     Comedy|Romance  1995  4.653960  \n",
       "8                                 Adventure|Children  1995  4.653960  \n",
       "9                                             Action  1995  4.653960  \n",
       "10                         Action|Adventure|Thriller  1995  4.653960  \n",
       "11                              Comedy|Drama|Romance  1995  4.653960  \n",
       "12                                     Comedy|Horror  1995  4.653960  \n",
       "13                      Adventure|Animation|Children  1995  4.653960  \n",
       "14                                             Drama  1995  4.653960  \n",
       "15                          Action|Adventure|Romance  1995  4.653960  \n",
       "16                                       Crime|Drama  1995  4.653960  \n",
       "17                                     Drama|Romance  1995  4.653960  \n",
       "18                                            Comedy  1995  4.653960  \n",
       "19                                            Comedy  1995  4.653960  \n",
       "20                Action|Comedy|Crime|Drama|Thriller  1995  4.653960  \n",
       "21                             Comedy|Crime|Thriller  1995  4.653960  \n",
       "22               Crime|Drama|Horror|Mystery|Thriller  1995  4.653960  \n",
       "23                             Action|Crime|Thriller  1995  4.653960  \n",
       "24                                      Drama|Sci-Fi  1995  4.653960  \n",
       "25                                     Drama|Romance  1995  4.653960  \n",
       "26                                             Drama  1995  4.653960  \n",
       "27                                    Children|Drama  1995  4.653960  \n",
       "28                                     Drama|Romance  1995  4.653960  \n",
       "29            Adventure|Drama|Fantasy|Mystery|Sci-Fi  1995  4.653960  \n",
       "30                                       Crime|Drama  1995  4.653960  \n",
       "31                                             Drama  1995  4.653960  \n",
       "32                           Mystery|Sci-Fi|Thriller  1995  4.653960  \n",
       "33                            Adventure|Romance|IMAX  1995  4.653960  \n",
       "34                                    Children|Drama  1995  4.653960  \n",
       "35                                     Drama|Romance  1995  4.653960  \n",
       "36                                       Crime|Drama  1995  4.653960  \n",
       "37                                  Documentary|IMAX  1995  4.653960  \n",
       "38                                   Children|Comedy  1995  4.653960  \n",
       "39                                    Comedy|Romance  1995  4.653960  \n",
       "40                                             Drama  1995  4.653960  \n",
       "41                                         Drama|War  1995  4.653960  \n",
       "42                                Action|Crime|Drama  1995  4.653960  \n",
       "43                                             Drama  1995  4.653960  \n",
       "44                          Action|Adventure|Fantasy  1995  4.653960  \n",
       "45                             Comedy|Drama|Thriller  1995  4.653960  \n",
       "46                                     Drama|Romance  1995  4.653960  \n",
       "47                                  Mystery|Thriller  1995  4.653960  \n",
       "48          Animation|Children|Drama|Musical|Romance  1995  4.653960  \n",
       "49                                     Drama|Romance  1995  4.653960  \n",
       "50                            Crime|Mystery|Thriller  1995  4.653960  \n",
       "51                             Action|Drama|Thriller  1994  4.644391  \n",
       "52                              Comedy|Drama|Romance  1995  4.653960  \n",
       "53                                   Adventure|Drama  1994  4.644391  \n",
       "54                                   Children|Comedy  1995  4.653960  \n",
       "55                                             Drama  1995  4.653960  \n",
       "56                        Adventure|Children|Fantasy  1995  4.653960  \n",
       "57                                             Drama  1995  4.653960  \n",
       "58                              Comedy|Drama|Romance  1994  4.644391  \n",
       "59                                     Drama|Mystery  1995  4.653960  \n",
       "60                        Adventure|Children|Fantasy  1995  4.653960  "
      ]
     },
     "execution_count": 9,
     "metadata": {},
     "output_type": "execute_result"
    }
   ],
   "source": [
    "#visualisation of the dataframe dfmovies with the nexw coefficient of ages\n",
    "dfmovies.head(60)"
   ]
  },
  {
   "cell_type": "code",
   "execution_count": 43,
   "metadata": {},
   "outputs": [],
   "source": [
    "dfmovies.to_csv('../data/dfmovies_coef_age.csv')"
   ]
  },
  {
   "cell_type": "markdown",
   "metadata": {},
   "source": [
    "Selection of the 50 most relevant tagId"
   ]
  },
  {
   "cell_type": "code",
   "execution_count": 10,
   "metadata": {
    "id": "SHNrFF8L-mtG"
   },
   "outputs": [],
   "source": [
    "#groupby tagId and sum to compute the total relevance by tagId. Desascending sorting to keep only the 50 most relevant. \n",
    "toprelevance = dfgenome.groupby('tagId').agg(sum).sort_values('relevance',ascending=False).head(50).index\n"
   ]
  },
  {
   "cell_type": "code",
   "execution_count": 11,
   "metadata": {
    "id": "nbxxlVbr-x-_"
   },
   "outputs": [],
   "source": [
    "#selection in the main dataframe dfgenome from the grouped dataframe selection above.\n",
    "genome_top = dfgenome[dfgenome['tagId'].isin(toprelevance)]"
   ]
  },
  {
   "cell_type": "code",
   "execution_count": 12,
   "metadata": {
    "colab": {
     "base_uri": "https://localhost:8080/",
     "height": 467
    },
    "id": "CDvDWrHWTm11",
    "outputId": "6494cf81-0be0-4bd2-edf8-bb4214242e3c"
   },
   "outputs": [
    {
     "data": {
      "text/html": [
       "<div>\n",
       "<style scoped>\n",
       "    .dataframe tbody tr th:only-of-type {\n",
       "        vertical-align: middle;\n",
       "    }\n",
       "\n",
       "    .dataframe tbody tr th {\n",
       "        vertical-align: top;\n",
       "    }\n",
       "\n",
       "    .dataframe thead th {\n",
       "        text-align: right;\n",
       "    }\n",
       "</style>\n",
       "<table border=\"1\" class=\"dataframe\">\n",
       "  <thead>\n",
       "    <tr style=\"text-align: right;\">\n",
       "      <th></th>\n",
       "      <th>movieId</th>\n",
       "      <th>tagId</th>\n",
       "      <th>relevance</th>\n",
       "    </tr>\n",
       "  </thead>\n",
       "  <tbody>\n",
       "    <tr>\n",
       "      <th>20</th>\n",
       "      <td>1</td>\n",
       "      <td>21</td>\n",
       "      <td>0.33025</td>\n",
       "    </tr>\n",
       "    <tr>\n",
       "      <th>21</th>\n",
       "      <td>1</td>\n",
       "      <td>22</td>\n",
       "      <td>0.28250</td>\n",
       "    </tr>\n",
       "    <tr>\n",
       "      <th>168</th>\n",
       "      <td>1</td>\n",
       "      <td>169</td>\n",
       "      <td>0.20525</td>\n",
       "    </tr>\n",
       "    <tr>\n",
       "      <th>187</th>\n",
       "      <td>1</td>\n",
       "      <td>188</td>\n",
       "      <td>0.48600</td>\n",
       "    </tr>\n",
       "    <tr>\n",
       "      <th>194</th>\n",
       "      <td>1</td>\n",
       "      <td>195</td>\n",
       "      <td>0.59000</td>\n",
       "    </tr>\n",
       "  </tbody>\n",
       "</table>\n",
       "</div>"
      ],
      "text/plain": [
       "     movieId  tagId  relevance\n",
       "20         1     21    0.33025\n",
       "21         1     22    0.28250\n",
       "168        1    169    0.20525\n",
       "187        1    188    0.48600\n",
       "194        1    195    0.59000"
      ]
     },
     "metadata": {},
     "output_type": "display_data"
    },
    {
     "name": "stdout",
     "output_type": "stream",
     "text": [
      "<class 'pandas.core.frame.DataFrame'>\n",
      "Int64Index: 519050 entries, 20 to 11709743\n",
      "Data columns (total 3 columns):\n",
      " #   Column     Non-Null Count   Dtype  \n",
      "---  ------     --------------   -----  \n",
      " 0   movieId    519050 non-null  int64  \n",
      " 1   tagId      519050 non-null  int64  \n",
      " 2   relevance  519050 non-null  float64\n",
      "dtypes: float64(1), int64(2)\n",
      "memory usage: 15.8 MB\n"
     ]
    },
    {
     "data": {
      "text/plain": [
       "None"
      ]
     },
     "metadata": {},
     "output_type": "display_data"
    }
   ],
   "source": [
    "#check of the tab from the selection\n",
    "display(genome_top.head(5))\n",
    "display(genome_top.info())"
   ]
  },
  {
   "cell_type": "code",
   "execution_count": 13,
   "metadata": {
    "id": "udsf3ogKUBkt"
   },
   "outputs": [],
   "source": [
    "#compression of the selection table by pivot method.\n",
    "genome_top=pd.pivot_table(genome_top, index=\"movieId\",columns=\"tagId\")"
   ]
  },
  {
   "cell_type": "code",
   "execution_count": 14,
   "metadata": {
    "colab": {
     "base_uri": "https://localhost:8080/",
     "height": 1000
    },
    "id": "H5TJq88NekKs",
    "outputId": "33baca25-06ae-4622-cf04-6047f9ab5da5"
   },
   "outputs": [
    {
     "data": {
      "text/html": [
       "<div>\n",
       "<style scoped>\n",
       "    .dataframe tbody tr th:only-of-type {\n",
       "        vertical-align: middle;\n",
       "    }\n",
       "\n",
       "    .dataframe tbody tr th {\n",
       "        vertical-align: top;\n",
       "    }\n",
       "\n",
       "    .dataframe thead tr th {\n",
       "        text-align: left;\n",
       "    }\n",
       "\n",
       "    .dataframe thead tr:last-of-type th {\n",
       "        text-align: right;\n",
       "    }\n",
       "</style>\n",
       "<table border=\"1\" class=\"dataframe\">\n",
       "  <thead>\n",
       "    <tr>\n",
       "      <th></th>\n",
       "      <th colspan=\"21\" halign=\"left\">relevance</th>\n",
       "    </tr>\n",
       "    <tr>\n",
       "      <th>tagId</th>\n",
       "      <th>21</th>\n",
       "      <th>22</th>\n",
       "      <th>169</th>\n",
       "      <th>188</th>\n",
       "      <th>195</th>\n",
       "      <th>203</th>\n",
       "      <th>212</th>\n",
       "      <th>220</th>\n",
       "      <th>240</th>\n",
       "      <th>258</th>\n",
       "      <th>...</th>\n",
       "      <th>972</th>\n",
       "      <th>982</th>\n",
       "      <th>992</th>\n",
       "      <th>999</th>\n",
       "      <th>1008</th>\n",
       "      <th>1051</th>\n",
       "      <th>1064</th>\n",
       "      <th>1070</th>\n",
       "      <th>1091</th>\n",
       "      <th>1104</th>\n",
       "    </tr>\n",
       "    <tr>\n",
       "      <th>movieId</th>\n",
       "      <th></th>\n",
       "      <th></th>\n",
       "      <th></th>\n",
       "      <th></th>\n",
       "      <th></th>\n",
       "      <th></th>\n",
       "      <th></th>\n",
       "      <th></th>\n",
       "      <th></th>\n",
       "      <th></th>\n",
       "      <th></th>\n",
       "      <th></th>\n",
       "      <th></th>\n",
       "      <th></th>\n",
       "      <th></th>\n",
       "      <th></th>\n",
       "      <th></th>\n",
       "      <th></th>\n",
       "      <th></th>\n",
       "      <th></th>\n",
       "      <th></th>\n",
       "    </tr>\n",
       "  </thead>\n",
       "  <tbody>\n",
       "    <tr>\n",
       "      <th>1</th>\n",
       "      <td>0.33025</td>\n",
       "      <td>0.28250</td>\n",
       "      <td>0.20525</td>\n",
       "      <td>0.4860</td>\n",
       "      <td>0.59000</td>\n",
       "      <td>0.92625</td>\n",
       "      <td>0.12350</td>\n",
       "      <td>0.78025</td>\n",
       "      <td>0.35550</td>\n",
       "      <td>0.28625</td>\n",
       "      <td>...</td>\n",
       "      <td>0.75000</td>\n",
       "      <td>0.37550</td>\n",
       "      <td>0.4345</td>\n",
       "      <td>0.49000</td>\n",
       "      <td>0.60950</td>\n",
       "      <td>0.36300</td>\n",
       "      <td>0.42050</td>\n",
       "      <td>0.26150</td>\n",
       "      <td>0.41050</td>\n",
       "      <td>0.29925</td>\n",
       "    </tr>\n",
       "    <tr>\n",
       "      <th>2</th>\n",
       "      <td>0.45100</td>\n",
       "      <td>0.60200</td>\n",
       "      <td>0.22825</td>\n",
       "      <td>0.4865</td>\n",
       "      <td>0.62600</td>\n",
       "      <td>0.87025</td>\n",
       "      <td>0.12975</td>\n",
       "      <td>0.35625</td>\n",
       "      <td>0.11600</td>\n",
       "      <td>0.27550</td>\n",
       "      <td>...</td>\n",
       "      <td>0.31650</td>\n",
       "      <td>0.18225</td>\n",
       "      <td>0.1260</td>\n",
       "      <td>0.44075</td>\n",
       "      <td>0.14825</td>\n",
       "      <td>0.15050</td>\n",
       "      <td>0.22075</td>\n",
       "      <td>0.23475</td>\n",
       "      <td>0.19125</td>\n",
       "      <td>0.31600</td>\n",
       "    </tr>\n",
       "    <tr>\n",
       "      <th>3</th>\n",
       "      <td>0.28000</td>\n",
       "      <td>0.20775</td>\n",
       "      <td>0.29950</td>\n",
       "      <td>0.4405</td>\n",
       "      <td>0.53800</td>\n",
       "      <td>0.34850</td>\n",
       "      <td>0.13750</td>\n",
       "      <td>0.18975</td>\n",
       "      <td>0.23050</td>\n",
       "      <td>0.23075</td>\n",
       "      <td>...</td>\n",
       "      <td>0.28875</td>\n",
       "      <td>0.17350</td>\n",
       "      <td>0.4220</td>\n",
       "      <td>0.26675</td>\n",
       "      <td>0.21175</td>\n",
       "      <td>0.20725</td>\n",
       "      <td>0.21875</td>\n",
       "      <td>0.41825</td>\n",
       "      <td>0.21250</td>\n",
       "      <td>0.16800</td>\n",
       "    </tr>\n",
       "    <tr>\n",
       "      <th>4</th>\n",
       "      <td>0.49875</td>\n",
       "      <td>0.44650</td>\n",
       "      <td>0.31100</td>\n",
       "      <td>0.4185</td>\n",
       "      <td>0.26125</td>\n",
       "      <td>0.24075</td>\n",
       "      <td>0.13425</td>\n",
       "      <td>0.18825</td>\n",
       "      <td>0.13475</td>\n",
       "      <td>0.17200</td>\n",
       "      <td>...</td>\n",
       "      <td>0.33050</td>\n",
       "      <td>0.17175</td>\n",
       "      <td>0.1985</td>\n",
       "      <td>0.18425</td>\n",
       "      <td>0.17600</td>\n",
       "      <td>0.18325</td>\n",
       "      <td>0.28400</td>\n",
       "      <td>0.35950</td>\n",
       "      <td>0.18575</td>\n",
       "      <td>0.17850</td>\n",
       "    </tr>\n",
       "    <tr>\n",
       "      <th>5</th>\n",
       "      <td>0.27575</td>\n",
       "      <td>0.21075</td>\n",
       "      <td>0.27050</td>\n",
       "      <td>0.5545</td>\n",
       "      <td>0.56800</td>\n",
       "      <td>0.39025</td>\n",
       "      <td>0.12300</td>\n",
       "      <td>0.18025</td>\n",
       "      <td>0.21200</td>\n",
       "      <td>0.17975</td>\n",
       "      <td>...</td>\n",
       "      <td>0.27225</td>\n",
       "      <td>0.14450</td>\n",
       "      <td>0.3450</td>\n",
       "      <td>0.23850</td>\n",
       "      <td>0.18300</td>\n",
       "      <td>0.15025</td>\n",
       "      <td>0.21400</td>\n",
       "      <td>0.28475</td>\n",
       "      <td>0.18750</td>\n",
       "      <td>0.26975</td>\n",
       "    </tr>\n",
       "  </tbody>\n",
       "</table>\n",
       "<p>5 rows × 50 columns</p>\n",
       "</div>"
      ],
      "text/plain": [
       "        relevance                                                       \\\n",
       "tagId        21       22       169     188      195      203      212    \n",
       "movieId                                                                  \n",
       "1         0.33025  0.28250  0.20525  0.4860  0.59000  0.92625  0.12350   \n",
       "2         0.45100  0.60200  0.22825  0.4865  0.62600  0.87025  0.12975   \n",
       "3         0.28000  0.20775  0.29950  0.4405  0.53800  0.34850  0.13750   \n",
       "4         0.49875  0.44650  0.31100  0.4185  0.26125  0.24075  0.13425   \n",
       "5         0.27575  0.21075  0.27050  0.5545  0.56800  0.39025  0.12300   \n",
       "\n",
       "                                    ...                                     \\\n",
       "tagId       220      240      258   ...     972      982     992      999    \n",
       "movieId                             ...                                      \n",
       "1        0.78025  0.35550  0.28625  ...  0.75000  0.37550  0.4345  0.49000   \n",
       "2        0.35625  0.11600  0.27550  ...  0.31650  0.18225  0.1260  0.44075   \n",
       "3        0.18975  0.23050  0.23075  ...  0.28875  0.17350  0.4220  0.26675   \n",
       "4        0.18825  0.13475  0.17200  ...  0.33050  0.17175  0.1985  0.18425   \n",
       "5        0.18025  0.21200  0.17975  ...  0.27225  0.14450  0.3450  0.23850   \n",
       "\n",
       "                                                               \n",
       "tagId       1008     1051     1064     1070     1091     1104  \n",
       "movieId                                                        \n",
       "1        0.60950  0.36300  0.42050  0.26150  0.41050  0.29925  \n",
       "2        0.14825  0.15050  0.22075  0.23475  0.19125  0.31600  \n",
       "3        0.21175  0.20725  0.21875  0.41825  0.21250  0.16800  \n",
       "4        0.17600  0.18325  0.28400  0.35950  0.18575  0.17850  \n",
       "5        0.18300  0.15025  0.21400  0.28475  0.18750  0.26975  \n",
       "\n",
       "[5 rows x 50 columns]"
      ]
     },
     "metadata": {},
     "output_type": "display_data"
    },
    {
     "name": "stdout",
     "output_type": "stream",
     "text": [
      "<class 'pandas.core.frame.DataFrame'>\n",
      "Int64Index: 10381 entries, 1 to 131170\n",
      "Data columns (total 50 columns):\n",
      " #   Column             Non-Null Count  Dtype  \n",
      "---  ------             --------------  -----  \n",
      " 0   (relevance, 21)    10381 non-null  float64\n",
      " 1   (relevance, 22)    10381 non-null  float64\n",
      " 2   (relevance, 169)   10381 non-null  float64\n",
      " 3   (relevance, 188)   10381 non-null  float64\n",
      " 4   (relevance, 195)   10381 non-null  float64\n",
      " 5   (relevance, 203)   10381 non-null  float64\n",
      " 6   (relevance, 212)   10381 non-null  float64\n",
      " 7   (relevance, 220)   10381 non-null  float64\n",
      " 8   (relevance, 240)   10381 non-null  float64\n",
      " 9   (relevance, 258)   10381 non-null  float64\n",
      " 10  (relevance, 270)   10381 non-null  float64\n",
      " 11  (relevance, 277)   10381 non-null  float64\n",
      " 12  (relevance, 299)   10381 non-null  float64\n",
      " 13  (relevance, 302)   10381 non-null  float64\n",
      " 14  (relevance, 323)   10381 non-null  float64\n",
      " 15  (relevance, 351)   10381 non-null  float64\n",
      " 16  (relevance, 378)   10381 non-null  float64\n",
      " 17  (relevance, 415)   10381 non-null  float64\n",
      " 18  (relevance, 445)   10381 non-null  float64\n",
      " 19  (relevance, 452)   10381 non-null  float64\n",
      " 20  (relevance, 464)   10381 non-null  float64\n",
      " 21  (relevance, 465)   10381 non-null  float64\n",
      " 22  (relevance, 468)   10381 non-null  float64\n",
      " 23  (relevance, 472)   10381 non-null  float64\n",
      " 24  (relevance, 493)   10381 non-null  float64\n",
      " 25  (relevance, 536)   10381 non-null  float64\n",
      " 26  (relevance, 554)   10381 non-null  float64\n",
      " 27  (relevance, 602)   10381 non-null  float64\n",
      " 28  (relevance, 610)   10381 non-null  float64\n",
      " 29  (relevance, 640)   10381 non-null  float64\n",
      " 30  (relevance, 646)   10381 non-null  float64\n",
      " 31  (relevance, 742)   10381 non-null  float64\n",
      " 32  (relevance, 750)   10381 non-null  float64\n",
      " 33  (relevance, 777)   10381 non-null  float64\n",
      " 34  (relevance, 801)   10381 non-null  float64\n",
      " 35  (relevance, 807)   10381 non-null  float64\n",
      " 36  (relevance, 844)   10381 non-null  float64\n",
      " 37  (relevance, 867)   10381 non-null  float64\n",
      " 38  (relevance, 936)   10381 non-null  float64\n",
      " 39  (relevance, 971)   10381 non-null  float64\n",
      " 40  (relevance, 972)   10381 non-null  float64\n",
      " 41  (relevance, 982)   10381 non-null  float64\n",
      " 42  (relevance, 992)   10381 non-null  float64\n",
      " 43  (relevance, 999)   10381 non-null  float64\n",
      " 44  (relevance, 1008)  10381 non-null  float64\n",
      " 45  (relevance, 1051)  10381 non-null  float64\n",
      " 46  (relevance, 1064)  10381 non-null  float64\n",
      " 47  (relevance, 1070)  10381 non-null  float64\n",
      " 48  (relevance, 1091)  10381 non-null  float64\n",
      " 49  (relevance, 1104)  10381 non-null  float64\n",
      "dtypes: float64(50)\n",
      "memory usage: 4.0 MB\n"
     ]
    },
    {
     "data": {
      "text/plain": [
       "None"
      ]
     },
     "metadata": {},
     "output_type": "display_data"
    }
   ],
   "source": [
    "#check of the tab from the pivot method\n",
    "display(genome_top.head(5))\n",
    "display(genome_top.info())"
   ]
  },
  {
   "cell_type": "markdown",
   "metadata": {},
   "source": [
    "We check that the pivot table genome_top is refleting the mapping of the movies, two alike movies should be with close distance."
   ]
  },
  {
   "cell_type": "code",
   "execution_count": 15,
   "metadata": {
    "id": "hOS723SGj5Ps"
   },
   "outputs": [],
   "source": [
    "#function computed the distance between two movies\n",
    "def distance_movies(movie1,movie2) :\n",
    "  return (sum(genome_top.loc[movie1]-genome_top.loc[movie2]))"
   ]
  },
  {
   "cell_type": "code",
   "execution_count": 16,
   "metadata": {},
   "outputs": [
    {
     "name": "stdout",
     "output_type": "stream",
     "text": [
      "Toy Story (1995)\n",
      "Jumanji (1995)\n",
      "distance between the above movies : 6.826249999999998\n"
     ]
    }
   ],
   "source": [
    "#distance between Toy Story and Jumaji (different movies)\n",
    "print(dfmovies.loc[1].title)\n",
    "print(dfmovies.loc[2].title)\n",
    "\n",
    "print(\"distance between the above movies :\" ,distance_movies(1,2))"
   ]
  },
  {
   "cell_type": "code",
   "execution_count": 17,
   "metadata": {},
   "outputs": [
    {
     "name": "stdout",
     "output_type": "stream",
     "text": [
      "Harry Potter and the Sorcerer's Stone (a.k.a. Harry Potter and the Philosopher's Stone) (2001)\n",
      "Harry Potter and the Chamber of Secrets (2002)\n",
      "distance between the above movies : 0.34250000000000047\n"
     ]
    }
   ],
   "source": [
    "#distance between two Harry Potter movies (alike movies)\n",
    "print(dfmovies.loc[4896].title)\n",
    "print(dfmovies.loc[5816].title)\n",
    "\n",
    "print(\"distance between the above movies :\", distance_movies(4896,5816))"
   ]
  },
  {
   "cell_type": "markdown",
   "metadata": {},
   "source": [
    "The alike movies are very closed wrt two others movies which means we can use a clustering method on the pivot table genome_top to classify the type of movies"
   ]
  },
  {
   "cell_type": "markdown",
   "metadata": {
    "id": "W8j99TDampOB"
   },
   "source": [
    "Clustering of the movies in function of their tag relevancy"
   ]
  },
  {
   "cell_type": "code",
   "execution_count": 18,
   "metadata": {
    "colab": {
     "base_uri": "https://localhost:8080/",
     "height": 130
    },
    "id": "Cr-9aCW21XR4",
    "outputId": "ad0b5b9f-8a66-4a63-ef05-23285e66c3f5"
   },
   "outputs": [
    {
     "name": "stderr",
     "output_type": "stream",
     "text": [
      "C:\\ProgramData\\Anaconda3\\lib\\site-packages\\sklearn\\utils\\validation.py:1688: FutureWarning: Feature names only support names that are all strings. Got feature names with dtypes: ['tuple']. An error will be raised in 1.2.\n",
      "  warnings.warn(\n"
     ]
    },
    {
     "data": {
      "text/plain": [
       "KMeans(n_clusters=100)"
      ]
     },
     "execution_count": 18,
     "metadata": {},
     "output_type": "execute_result"
    }
   ],
   "source": [
    "#creation of model clf ky Kmeans method with 100 clusters)\n",
    "clf = KMeans(n_clusters = 100)\n",
    "\n",
    "#fitting of the model clf on pivot table\n",
    "clf.fit(genome_top)\n",
    "\n"
   ]
  },
  {
   "cell_type": "code",
   "execution_count": 19,
   "metadata": {
    "id": "zRglfSV_2Ik9"
   },
   "outputs": [],
   "source": [
    "#Adding of the cluster labels to our Dataframe genome_top\n",
    "genome_top[\"cluster\"]=clf.labels_\n",
    "    \n"
   ]
  },
  {
   "cell_type": "code",
   "execution_count": 20,
   "metadata": {},
   "outputs": [],
   "source": [
    "cluster_centroid=clf.cluster_centers_"
   ]
  },
  {
   "cell_type": "code",
   "execution_count": 21,
   "metadata": {},
   "outputs": [],
   "source": [
    "genome_top.to_csv('../data/genome_cluster.csv')"
   ]
  },
  {
   "cell_type": "code",
   "execution_count": 22,
   "metadata": {},
   "outputs": [],
   "source": [
    "np.savetxt('../data/cluster_centroid.csv',cluster_centroid,delimiter=';')"
   ]
  },
  {
   "cell_type": "markdown",
   "metadata": {
    "id": "zUwKfctJqlVY"
   },
   "source": [
    "Evaluation of the relevancy of the clustering by counting the number of \n",
    "\n",
    "occurence of each cluster\n"
   ]
  },
  {
   "cell_type": "code",
   "execution_count": 23,
   "metadata": {
    "colab": {
     "base_uri": "https://localhost:8080/"
    },
    "id": "97XrL6t5rdvP",
    "outputId": "91a07df8-99e9-4bfa-968d-035726954b63"
   },
   "outputs": [
    {
     "name": "stdout",
     "output_type": "stream",
     "text": [
      "cluster\n",
      "52    318\n",
      "43    270\n",
      "20    261\n",
      "34    238\n",
      "41    214\n",
      "     ... \n",
      "3      51\n",
      "33     51\n",
      "63     50\n",
      "19     48\n",
      "75     48\n",
      "Length: 100, dtype: int64\n"
     ]
    }
   ],
   "source": [
    "#counting the number of occurence of each cluster\n",
    "cluster_repartition=genome_top.value_counts(subset=\"cluster\")\n",
    "print(cluster_repartition)"
   ]
  },
  {
   "cell_type": "markdown",
   "metadata": {
    "id": "etXzFVTBsQnA"
   },
   "source": [
    "The largest cluster is less than 10 times bigger than the smallest so 100 clusters is a good value.\n",
    "\n"
   ]
  },
  {
   "cell_type": "code",
   "execution_count": 24,
   "metadata": {
    "id": "dYz2xkT0GtMP"
   },
   "outputs": [],
   "source": [
    "#Adding of the cluster labels to our Dataframe rating too by a merge\n",
    "dfratings=dfratings.merge(right=genome_top[\"cluster\"],on='movieId',how='left')\n"
   ]
  },
  {
   "cell_type": "code",
   "execution_count": 25,
   "metadata": {},
   "outputs": [],
   "source": [
    "dfratings.to_csv('../data/dfratings_cluster.csv')"
   ]
  },
  {
   "cell_type": "markdown",
   "metadata": {
    "id": "awl176_likv7"
   },
   "source": [
    "Exemple with one user, to be remplace by login"
   ]
  },
  {
   "cell_type": "code",
   "execution_count": 26,
   "metadata": {
    "id": "kLsfe2gnG4dQ"
   },
   "outputs": [],
   "source": [
    "user_test=int(1)"
   ]
  },
  {
   "cell_type": "markdown",
   "metadata": {
    "id": "HxgAN_Sqixxr"
   },
   "source": [
    "extract of the user ratings"
   ]
  },
  {
   "cell_type": "code",
   "execution_count": 27,
   "metadata": {
    "id": "531SpZX_HL9B"
   },
   "outputs": [],
   "source": [
    "seen_by_test=dfratings[dfratings[\"userId\"]==user_test]"
   ]
  },
  {
   "cell_type": "code",
   "execution_count": 28,
   "metadata": {
    "colab": {
     "base_uri": "https://localhost:8080/"
    },
    "id": "2ZMAxZ1hL60T",
    "outputId": "e937452d-4c79-4976-d6db-366d797b18fd"
   },
   "outputs": [
    {
     "name": "stdout",
     "output_type": "stream",
     "text": [
      "     userId  movieId  rating   timestamp  cluster\n",
      "0         1        2     3.5  1112486027     61.0\n",
      "1         1       29     3.5  1112484676     18.0\n",
      "2         1       32     3.5  1112484819     63.0\n",
      "3         1       47     3.5  1112484727     16.0\n",
      "4         1       50     3.5  1112484580     16.0\n",
      "..      ...      ...     ...         ...      ...\n",
      "170       1     8507     5.0  1094786027     32.0\n",
      "171       1     8636     4.5  1112485493     54.0\n",
      "172       1     8690     3.5  1112484795     94.0\n",
      "173       1     8961     4.0  1112485629     67.0\n",
      "174       1    31696     4.0  1112485748     54.0\n",
      "\n",
      "[175 rows x 5 columns]\n"
     ]
    }
   ],
   "source": [
    "print(seen_by_test)"
   ]
  },
  {
   "cell_type": "markdown",
   "metadata": {
    "id": "OfDwGki6ia2y"
   },
   "source": [
    "top 100 Movies of the users (by ratings)\n"
   ]
  },
  {
   "cell_type": "code",
   "execution_count": 29,
   "metadata": {
    "id": "cczLXGEbMI7Z"
   },
   "outputs": [],
   "source": [
    "top_movies_user=seen_by_test.groupby(\"movieId\").mean().sort_values(ascending=False,by=\"rating\").head(100)"
   ]
  },
  {
   "cell_type": "code",
   "execution_count": 30,
   "metadata": {
    "colab": {
     "base_uri": "https://localhost:8080/"
    },
    "id": "jtsB893eHUKV",
    "outputId": "1545dda4-3574-46e3-aae0-096a6fb3d46e"
   },
   "outputs": [
    {
     "name": "stdout",
     "output_type": "stream",
     "text": [
      "         userId  rating     timestamp  cluster\n",
      "movieId                                       \n",
      "8507        1.0     5.0  1.094786e+09     32.0\n",
      "4993        1.0     5.0  1.112485e+09     57.0\n",
      "5952        1.0     5.0  1.112485e+09     57.0\n",
      "7153        1.0     5.0  1.112485e+09     57.0\n",
      "1196        1.0     4.5  1.112485e+09     57.0\n",
      "...         ...     ...           ...      ...\n",
      "8690        1.0     3.5  1.112485e+09     94.0\n",
      "8482        1.0     3.5  1.112486e+09     99.0\n",
      "4720        1.0     3.5  1.094786e+09     57.0\n",
      "5679        1.0     3.5  1.094786e+09     85.0\n",
      "7045        1.0     3.5  1.112486e+09     79.0\n",
      "\n",
      "[100 rows x 4 columns]\n"
     ]
    }
   ],
   "source": [
    "print(top_movies_user)"
   ]
  },
  {
   "cell_type": "markdown",
   "metadata": {
    "id": "QK_mKXa7JUT-"
   },
   "source": [
    "Repartition of the cluster inside the top 100, and stop if more than 10 différents clusters"
   ]
  },
  {
   "cell_type": "code",
   "execution_count": 31,
   "metadata": {
    "colab": {
     "base_uri": "https://localhost:8080/"
    },
    "id": "4xlZ_vgnpvhY",
    "outputId": "de3a4487-c12f-4d2d-b188-57d7ae56986d"
   },
   "outputs": [
    {
     "name": "stdout",
     "output_type": "stream",
     "text": [
      "cluster\n",
      "57.0    0.11\n",
      "30.0    0.07\n",
      "3.0     0.06\n",
      "54.0    0.06\n",
      "16.0    0.06\n",
      "dtype: float64\n"
     ]
    }
   ],
   "source": [
    "cluster_user=top_movies_user.value_counts(subset=\"cluster\", normalize=True).head(5)\n",
    "print(cluster_user)"
   ]
  },
  {
   "cell_type": "markdown",
   "metadata": {
    "id": "-HNhJDJItV7n"
   },
   "source": [
    "\n",
    "We can observe that there are no clusters very frequent wrt the others. All clusters represent less than 10% of the top 100 movies. So we cut after the top 10 clusters."
   ]
  },
  {
   "cell_type": "code",
   "execution_count": 32,
   "metadata": {
    "colab": {
     "base_uri": "https://localhost:8080/"
    },
    "id": "LZ5QLdqeuRZG",
    "outputId": "1708b816-32d0-4778-936c-5f764c4cf02d"
   },
   "outputs": [
    {
     "name": "stdout",
     "output_type": "stream",
     "text": [
      "cluster\n",
      "57.0    2.0\n",
      "30.0    1.0\n",
      "3.0     1.0\n",
      "54.0    1.0\n",
      "16.0    1.0\n",
      "dtype: float64\n"
     ]
    }
   ],
   "source": [
    "cluster_user=cluster_user/(cluster_user.sum())//0.20+1.00\n",
    "print(cluster_user)"
   ]
  },
  {
   "cell_type": "markdown",
   "metadata": {
    "id": "X6Dnu3ubeqTj"
   },
   "source": [
    "We select the movies not seen by the user"
   ]
  },
  {
   "cell_type": "code",
   "execution_count": 33,
   "metadata": {
    "colab": {
     "base_uri": "https://localhost:8080/",
     "height": 427
    },
    "id": "qdByyVm3iLOw",
    "outputId": "aa981f98-23dc-4c10-835f-94df11f14232"
   },
   "outputs": [
    {
     "data": {
      "text/html": [
       "<div>\n",
       "<style scoped>\n",
       "    .dataframe tbody tr th:only-of-type {\n",
       "        vertical-align: middle;\n",
       "    }\n",
       "\n",
       "    .dataframe tbody tr th {\n",
       "        vertical-align: top;\n",
       "    }\n",
       "\n",
       "    .dataframe thead th {\n",
       "        text-align: right;\n",
       "    }\n",
       "</style>\n",
       "<table border=\"1\" class=\"dataframe\">\n",
       "  <thead>\n",
       "    <tr style=\"text-align: right;\">\n",
       "      <th></th>\n",
       "      <th>movieId</th>\n",
       "      <th>title</th>\n",
       "      <th>genres</th>\n",
       "      <th>year</th>\n",
       "      <th>coef_age</th>\n",
       "      <th>userId</th>\n",
       "      <th>rating</th>\n",
       "      <th>timestamp</th>\n",
       "      <th>cluster</th>\n",
       "    </tr>\n",
       "  </thead>\n",
       "  <tbody>\n",
       "    <tr>\n",
       "      <th>0</th>\n",
       "      <td>1</td>\n",
       "      <td>Toy Story (1995)</td>\n",
       "      <td>Adventure|Animation|Children|Comedy|Fantasy</td>\n",
       "      <td>1995</td>\n",
       "      <td>4.65396</td>\n",
       "      <td>NaN</td>\n",
       "      <td>NaN</td>\n",
       "      <td>NaN</td>\n",
       "      <td>NaN</td>\n",
       "    </tr>\n",
       "    <tr>\n",
       "      <th>2</th>\n",
       "      <td>3</td>\n",
       "      <td>Grumpier Old Men (1995)</td>\n",
       "      <td>Comedy|Romance</td>\n",
       "      <td>1995</td>\n",
       "      <td>4.65396</td>\n",
       "      <td>NaN</td>\n",
       "      <td>NaN</td>\n",
       "      <td>NaN</td>\n",
       "      <td>NaN</td>\n",
       "    </tr>\n",
       "    <tr>\n",
       "      <th>3</th>\n",
       "      <td>4</td>\n",
       "      <td>Waiting to Exhale (1995)</td>\n",
       "      <td>Comedy|Drama|Romance</td>\n",
       "      <td>1995</td>\n",
       "      <td>4.65396</td>\n",
       "      <td>NaN</td>\n",
       "      <td>NaN</td>\n",
       "      <td>NaN</td>\n",
       "      <td>NaN</td>\n",
       "    </tr>\n",
       "    <tr>\n",
       "      <th>4</th>\n",
       "      <td>5</td>\n",
       "      <td>Father of the Bride Part II (1995)</td>\n",
       "      <td>Comedy</td>\n",
       "      <td>1995</td>\n",
       "      <td>4.65396</td>\n",
       "      <td>NaN</td>\n",
       "      <td>NaN</td>\n",
       "      <td>NaN</td>\n",
       "      <td>NaN</td>\n",
       "    </tr>\n",
       "    <tr>\n",
       "      <th>5</th>\n",
       "      <td>6</td>\n",
       "      <td>Heat (1995)</td>\n",
       "      <td>Action|Crime|Thriller</td>\n",
       "      <td>1995</td>\n",
       "      <td>4.65396</td>\n",
       "      <td>NaN</td>\n",
       "      <td>NaN</td>\n",
       "      <td>NaN</td>\n",
       "      <td>NaN</td>\n",
       "    </tr>\n",
       "  </tbody>\n",
       "</table>\n",
       "</div>"
      ],
      "text/plain": [
       "   movieId                               title  \\\n",
       "0        1                    Toy Story (1995)   \n",
       "2        3             Grumpier Old Men (1995)   \n",
       "3        4            Waiting to Exhale (1995)   \n",
       "4        5  Father of the Bride Part II (1995)   \n",
       "5        6                         Heat (1995)   \n",
       "\n",
       "                                        genres  year  coef_age  userId  \\\n",
       "0  Adventure|Animation|Children|Comedy|Fantasy  1995   4.65396     NaN   \n",
       "2                               Comedy|Romance  1995   4.65396     NaN   \n",
       "3                         Comedy|Drama|Romance  1995   4.65396     NaN   \n",
       "4                                       Comedy  1995   4.65396     NaN   \n",
       "5                        Action|Crime|Thriller  1995   4.65396     NaN   \n",
       "\n",
       "   rating  timestamp  cluster  \n",
       "0     NaN        NaN      NaN  \n",
       "2     NaN        NaN      NaN  \n",
       "3     NaN        NaN      NaN  \n",
       "4     NaN        NaN      NaN  \n",
       "5     NaN        NaN      NaN  "
      ]
     },
     "execution_count": 33,
     "metadata": {},
     "output_type": "execute_result"
    }
   ],
   "source": [
    "not_seen_by_test=dfmovies.merge(right=seen_by_test,on='movieId',how='left')\n",
    "\n",
    "not_seen_by_test=not_seen_by_test[not_seen_by_test[\"userId\"]!=user_test]\n",
    "\n",
    "\n",
    "not_seen_by_test.head()\n"
   ]
  },
  {
   "cell_type": "markdown",
   "metadata": {
    "id": "Lq6lsHrM0min"
   },
   "source": [
    "The following cell checks in a film has been seen by the user (test cells)"
   ]
  },
  {
   "cell_type": "code",
   "execution_count": 34,
   "metadata": {
    "colab": {
     "base_uri": "https://localhost:8080/"
    },
    "id": "B86dCFGOzzLJ",
    "outputId": "bd7b26ce-d31f-4af4-d72c-4d5949bde295"
   },
   "outputs": [
    {
     "name": "stdout",
     "output_type": "stream",
     "text": [
      "Empty DataFrame\n",
      "Columns: [userId, movieId, rating, timestamp, cluster]\n",
      "Index: []\n"
     ]
    }
   ],
   "source": [
    "seen_by_test.head()\n",
    "print(seen_by_test[seen_by_test[\"movieId\"]==858])\n"
   ]
  },
  {
   "cell_type": "markdown",
   "metadata": {
    "id": "xzOvUL080wai"
   },
   "source": [
    "We drop the useless columns"
   ]
  },
  {
   "cell_type": "code",
   "execution_count": 35,
   "metadata": {
    "colab": {
     "base_uri": "https://localhost:8080/",
     "height": 427
    },
    "id": "d2G-OKoY0ljh",
    "outputId": "0004a590-899f-4f99-bccf-8a1cbdbad64d"
   },
   "outputs": [
    {
     "data": {
      "text/html": [
       "<div>\n",
       "<style scoped>\n",
       "    .dataframe tbody tr th:only-of-type {\n",
       "        vertical-align: middle;\n",
       "    }\n",
       "\n",
       "    .dataframe tbody tr th {\n",
       "        vertical-align: top;\n",
       "    }\n",
       "\n",
       "    .dataframe thead th {\n",
       "        text-align: right;\n",
       "    }\n",
       "</style>\n",
       "<table border=\"1\" class=\"dataframe\">\n",
       "  <thead>\n",
       "    <tr style=\"text-align: right;\">\n",
       "      <th></th>\n",
       "      <th>movieId</th>\n",
       "      <th>title</th>\n",
       "      <th>genres</th>\n",
       "      <th>year</th>\n",
       "      <th>coef_age</th>\n",
       "    </tr>\n",
       "  </thead>\n",
       "  <tbody>\n",
       "    <tr>\n",
       "      <th>0</th>\n",
       "      <td>1</td>\n",
       "      <td>Toy Story (1995)</td>\n",
       "      <td>Adventure|Animation|Children|Comedy|Fantasy</td>\n",
       "      <td>1995</td>\n",
       "      <td>4.65396</td>\n",
       "    </tr>\n",
       "    <tr>\n",
       "      <th>2</th>\n",
       "      <td>3</td>\n",
       "      <td>Grumpier Old Men (1995)</td>\n",
       "      <td>Comedy|Romance</td>\n",
       "      <td>1995</td>\n",
       "      <td>4.65396</td>\n",
       "    </tr>\n",
       "    <tr>\n",
       "      <th>3</th>\n",
       "      <td>4</td>\n",
       "      <td>Waiting to Exhale (1995)</td>\n",
       "      <td>Comedy|Drama|Romance</td>\n",
       "      <td>1995</td>\n",
       "      <td>4.65396</td>\n",
       "    </tr>\n",
       "    <tr>\n",
       "      <th>4</th>\n",
       "      <td>5</td>\n",
       "      <td>Father of the Bride Part II (1995)</td>\n",
       "      <td>Comedy</td>\n",
       "      <td>1995</td>\n",
       "      <td>4.65396</td>\n",
       "    </tr>\n",
       "    <tr>\n",
       "      <th>5</th>\n",
       "      <td>6</td>\n",
       "      <td>Heat (1995)</td>\n",
       "      <td>Action|Crime|Thriller</td>\n",
       "      <td>1995</td>\n",
       "      <td>4.65396</td>\n",
       "    </tr>\n",
       "  </tbody>\n",
       "</table>\n",
       "</div>"
      ],
      "text/plain": [
       "   movieId                               title  \\\n",
       "0        1                    Toy Story (1995)   \n",
       "2        3             Grumpier Old Men (1995)   \n",
       "3        4            Waiting to Exhale (1995)   \n",
       "4        5  Father of the Bride Part II (1995)   \n",
       "5        6                         Heat (1995)   \n",
       "\n",
       "                                        genres  year  coef_age  \n",
       "0  Adventure|Animation|Children|Comedy|Fantasy  1995   4.65396  \n",
       "2                               Comedy|Romance  1995   4.65396  \n",
       "3                         Comedy|Drama|Romance  1995   4.65396  \n",
       "4                                       Comedy  1995   4.65396  \n",
       "5                        Action|Crime|Thriller  1995   4.65396  "
      ]
     },
     "execution_count": 35,
     "metadata": {},
     "output_type": "execute_result"
    }
   ],
   "source": [
    "not_seen_by_test=not_seen_by_test.drop([\"userId\",\"rating\",\"timestamp\",\"cluster\"], axis=1)\n",
    "not_seen_by_test.head()\n"
   ]
  },
  {
   "cell_type": "markdown",
   "metadata": {
    "id": "3N8UTAgAhWCR"
   },
   "source": [
    "Proposition of 5 Movies proportionnaly to the repartition of the top 100 Movies of the users (by ratings). To test the model, the proprosition are made in the list of the film  seen by user, and let compare what is the rating given by the user"
   ]
  },
  {
   "cell_type": "code",
   "execution_count": 36,
   "metadata": {
    "colab": {
     "base_uri": "https://localhost:8080/"
    },
    "id": "7nPcYbWzkEdr",
    "outputId": "f293949c-b3f7-4c9b-976c-f7a79348ddee"
   },
   "outputs": [
    {
     "name": "stdout",
     "output_type": "stream",
     "text": [
      "       userId       movieId      rating     timestamp     cluster\n",
      "count   175.0    175.000000  175.000000  1.750000e+02  174.000000\n",
      "mean      1.0   3428.537143    3.742857  1.107833e+09   51.873563\n",
      "std       0.0   3207.448049    0.382284  7.813424e+06   25.410300\n",
      "min       1.0      2.000000    3.000000  1.094786e+09    3.000000\n",
      "25%       1.0   1253.500000    3.500000  1.094786e+09   30.000000\n",
      "50%       1.0   2692.000000    4.000000  1.112485e+09   57.000000\n",
      "75%       1.0   4986.500000    4.000000  1.112486e+09   73.000000\n",
      "max       1.0  31696.000000    5.000000  1.112486e+09   99.000000\n"
     ]
    }
   ],
   "source": [
    "    print(dfratings[(dfratings[\"userId\"]==user_test)].describe())\n"
   ]
  },
  {
   "cell_type": "code",
   "execution_count": 37,
   "metadata": {
    "colab": {
     "base_uri": "https://localhost:8080/"
    },
    "id": "WSqdaA1LhwyR",
    "outputId": "0ab10096-fa43-4703-9ab9-8a64d493ee74"
   },
   "outputs": [
    {
     "name": "stdout",
     "output_type": "stream",
     "text": [
      "Int64Index([4993, 5952], dtype='int64', name='movieId')\n",
      "Int64Index([1215], dtype='int64', name='movieId')\n",
      "Int64Index([253], dtype='int64', name='movieId')\n",
      "Int64Index([8636], dtype='int64', name='movieId')\n",
      "Int64Index([296], dtype='int64', name='movieId')\n",
      "[array([4993, 5952], dtype=int64), array([1215], dtype=int64), array([253], dtype=int64), array([8636], dtype=int64), array([296], dtype=int64)]\n",
      "[4993 5952]\n",
      "4993\n",
      "     userId  movieId  rating   timestamp  cluster\n",
      "131       1     4993     5.0  1112484682     57.0\n",
      "5952\n",
      "     userId  movieId  rating   timestamp  cluster\n",
      "142       1     5952     5.0  1112484619     57.0\n",
      "[1215]\n",
      "1215\n",
      "    userId  movieId  rating   timestamp  cluster\n",
      "36       1     1215     4.0  1094786082     30.0\n",
      "[253]\n",
      "253\n",
      "   userId  movieId  rating   timestamp  cluster\n",
      "8       1      253     4.0  1112484940      3.0\n",
      "[8636]\n",
      "8636\n",
      "     userId  movieId  rating   timestamp  cluster\n",
      "171       1     8636     4.5  1112485493     54.0\n",
      "[296]\n",
      "296\n",
      "    userId  movieId  rating   timestamp  cluster\n",
      "11       1      296     4.0  1112484767     16.0\n",
      "['Lord of the Rings: The Fellowship of the Ring, The (2001)', 'Lord of the Rings: The Two Towers, The (2002)', 'Army of Darkness (1993)', 'Interview with the Vampire: The Vampire Chronicles (1994)', 'Spider-Man 2 (2004)']\n"
     ]
    }
   ],
   "source": [
    "proposed_movieId=[]\n",
    "proposed_movie_title=[]\n",
    "for i in range(5) :\n",
    "    chosen_cluster=cluster_user.index[i]\n",
    "    #print(chosen_cluster)\n",
    "\n",
    "    cluster_movieId=dfratings[(dfratings[\"userId\"]==user_test)&(dfratings[\"cluster\"]==chosen_cluster)]\n",
    "    print(cluster_movieId.groupby(\"movieId\").mean().sort_values('rating',ascending=False).head(cluster_user.loc[chosen_cluster].astype(int)).index)\n",
    "    proposed_movieId.append(cluster_movieId.groupby(\"movieId\").mean().sort_values('rating',ascending=False).head(cluster_user.loc[chosen_cluster].astype(int)).index.values)\n",
    "\n",
    "\n",
    "\n",
    "\n",
    "\n",
    "\n",
    "print(proposed_movieId)\n",
    "for i in proposed_movieId :\n",
    "  print(i)\n",
    "  for j in i :\n",
    "    print(j)\n",
    "    proposed_movie_title.append(dfmovies.loc[j].title)\n",
    "    print(dfratings[(dfratings[\"userId\"]==user_test)&(dfratings[\"movieId\"]==j)])\n",
    "   \n",
    "#the ratings are between 4 et 5 si the user liked these movies.\n",
    "\n",
    "print(proposed_movie_title[0:5])"
   ]
  },
  {
   "cell_type": "markdown",
   "metadata": {
    "id": "rLK0mHCEkG2U"
   },
   "source": [
    "Our model is far better than the mean so the model is validate."
   ]
  },
  {
   "cell_type": "markdown",
   "metadata": {
    "id": "gkoRhPTykC9u"
   },
   "source": [
    "Comparaison with mean rate given by the user to ensure our model is better than the random"
   ]
  },
  {
   "cell_type": "markdown",
   "metadata": {
    "id": "vsct5NTTUOvZ"
   },
   "source": [
    "Proposition of 5 Movies proportionnaly to the repartition of the top 100 Movies of the users (by ratings).\n",
    "The proprosition are made in the list of the film not seen by user. The top rating movies are selected, so that is to say \"classical\" of each type."
   ]
  },
  {
   "cell_type": "code",
   "execution_count": 38,
   "metadata": {
    "colab": {
     "base_uri": "https://localhost:8080/"
    },
    "id": "LiezJc8uUOva",
    "outputId": "90fb742a-6cf7-4447-d941-761d8397fbaa"
   },
   "outputs": [
    {
     "name": "stdout",
     "output_type": "stream",
     "text": [
      "Int64Index([2571, 79132], dtype='int64', name='movieId')\n",
      "Int64Index([7075], dtype='int64', name='movieId')\n",
      "Int64Index([1797], dtype='int64', name='movieId')\n",
      "Int64Index([91542], dtype='int64', name='movieId')\n",
      "Int64Index([858], dtype='int64', name='movieId')\n",
      "[array([ 2571, 79132], dtype=int64), array([7075], dtype=int64), array([1797], dtype=int64), array([91542], dtype=int64), array([858], dtype=int64)]\n",
      "[ 2571 79132]\n",
      "2571\n",
      "               userId    rating     timestamp  cluster\n",
      "movieId                                               \n",
      "2571     69092.710504  4.187186  1.152514e+09     57.0\n",
      "79132\n",
      "               userId    rating     timestamp  cluster\n",
      "movieId                                               \n",
      "79132    69196.991942  4.156172  1.344454e+09     57.0\n",
      "[7075]\n",
      "7075\n",
      "               userId    rating     timestamp  cluster\n",
      "movieId                                               \n",
      "7075     69473.817664  3.950142  1.188813e+09     30.0\n",
      "[1797]\n",
      "1797\n",
      "               userId    rating     timestamp  cluster\n",
      "movieId                                               \n",
      "1797     68384.493814  3.902905  1.021155e+09      3.0\n",
      "[91542]\n",
      "91542\n",
      "               userId    rating     timestamp  cluster\n",
      "movieId                                               \n",
      "91542    69503.710449  3.793747  1.371161e+09     54.0\n",
      "[858]\n",
      "858\n",
      "              userId    rating     timestamp  cluster\n",
      "movieId                                              \n",
      "858      69043.94968  4.364732  1.110976e+09     16.0\n",
      "['Matrix, The (1999)', 'Inception (2010)', 'Court Jester, The (1956)', 'Everest (1998)', 'Sherlock Holmes: A Game of Shadows (2011)']\n"
     ]
    }
   ],
   "source": [
    "proposed_movieId=[]\n",
    "proposed_movie_title=[]\n",
    "for i in range(5) :\n",
    "    chosen_cluster=cluster_user.index[i]\n",
    "    #print(chosen_cluster)\n",
    "\n",
    "    cluster_movieId=dfratings[dfratings[\"cluster\"]==chosen_cluster].merge(right=not_seen_by_test,on='movieId',how='inner')\n",
    "    print(cluster_movieId.groupby(\"movieId\").mean().sort_values('rating',ascending=False).head(cluster_user.loc[chosen_cluster].astype(int)).index)\n",
    "    proposed_movieId.append(cluster_movieId.groupby(\"movieId\").mean().sort_values('rating',ascending=False).head(cluster_user.loc[chosen_cluster].astype(int)).index.values)\n",
    "\n",
    "\n",
    "print(proposed_movieId)\n",
    "for i in proposed_movieId :\n",
    "  print(i)\n",
    "  for j in i :\n",
    "    print(j)\n",
    "    proposed_movie_title.append(dfmovies.loc[j].title)\n",
    "    print(dfratings[dfratings[\"movieId\"]==j].groupby(\"movieId\").mean())\n",
    "\n",
    "proposed_movie_completed=proposed_movie_title[0:5]   \n",
    "print(proposed_movie_completed)\n",
    "\n"
   ]
  },
  {
   "cell_type": "markdown",
   "metadata": {
    "id": "ODw4g0O5cavk"
   },
   "source": [
    "Proposition of 5 Movies proportionnaly to the repartition of the clusters in the top 100 Movies of the users. The proposed Movies are the best rated form each cluster (by ratings) multiplied by a coef to prefer recent movies.\n",
    "The proprosition are made in the list of the film not seen by user."
   ]
  },
  {
   "cell_type": "code",
   "execution_count": 39,
   "metadata": {
    "colab": {
     "base_uri": "https://localhost:8080/"
    },
    "id": "wgZlO6Ricavl",
    "outputId": "c0a67010-e153-4150-84d5-78aebf741364"
   },
   "outputs": [
    {
     "name": "stdout",
     "output_type": "stream",
     "text": [
      "Int64Index([109487, 91529], dtype='int64', name='movieId')\n",
      "Int64Index([93422], dtype='int64', name='movieId')\n",
      "Int64Index([102407], dtype='int64', name='movieId')\n",
      "Int64Index([110102], dtype='int64', name='movieId')\n",
      "Int64Index([112556], dtype='int64', name='movieId')\n",
      "[array([109487,  91529], dtype=int64), array([93422], dtype=int64), array([102407], dtype=int64), array([110102], dtype=int64), array([112556], dtype=int64)]\n",
      "[109487  91529]\n",
      "109487\n",
      "              userId    rating     timestamp  cluster\n",
      "movieId                                              \n",
      "109487   70066.87234  4.023864  1.421397e+09     57.0\n",
      "91529\n",
      "               userId   rating     timestamp  cluster\n",
      "movieId                                              \n",
      "91529    68914.246751  4.00021  1.378670e+09     57.0\n",
      "[93422]\n",
      "93422\n",
      "               userId    rating     timestamp  cluster\n",
      "movieId                                               \n",
      "93422    62493.893939  3.780303  1.388383e+09     30.0\n",
      "[102407]\n",
      "102407\n",
      "               userId    rating     timestamp  cluster\n",
      "movieId                                               \n",
      "102407   71274.543974  3.464984  1.394502e+09      3.0\n",
      "[110102]\n",
      "110102\n",
      "               userId    rating     timestamp  cluster\n",
      "movieId                                               \n",
      "110102   66784.183188  3.710944  1.413459e+09     54.0\n",
      "[112556]\n",
      "112556\n",
      "               userId    rating     timestamp  cluster\n",
      "movieId                                               \n",
      "112556   71115.344151  3.936444  1.421080e+09     16.0\n",
      "['Interstellar (2014)', 'Dark Knight Rises, The (2012)', 'Starbuck (2011)', 'Great Gatsby, The (2013)', 'Captain America: The Winter Soldier (2014)']\n"
     ]
    }
   ],
   "source": [
    "proposed_movieId=[]\n",
    "proposed_movie_title=[]\n",
    "for i in range(5) :\n",
    "    chosen_cluster=cluster_user.index[i]\n",
    "    #print(chosen_cluster)\n",
    "\n",
    "    cluster_movieId=dfratings[dfratings[\"cluster\"]==chosen_cluster].merge(right=not_seen_by_test,on='movieId',how='inner')\n",
    "    cluster_movieId[\"rating_coef_age\"]=cluster_movieId[\"rating\"]+20*cluster_movieId[\"coef_age\"]\n",
    "\n",
    "    print(cluster_movieId.groupby(\"movieId\").mean().sort_values('rating_coef_age',ascending=False).head(cluster_user.loc[chosen_cluster].astype(int)).index)\n",
    "    proposed_movieId.append(cluster_movieId.groupby(\"movieId\").mean().sort_values('rating_coef_age',ascending=False).head(cluster_user.loc[chosen_cluster].astype(int)).index.values)\n",
    "\n",
    "\n",
    "print(proposed_movieId)\n",
    "for i in proposed_movieId :\n",
    "  print(i)\n",
    "  for j in i :\n",
    "    print(j)\n",
    "    proposed_movie_title.append(dfmovies.loc[j].title)\n",
    "    print(dfratings[dfratings[\"movieId\"]==j].groupby(\"movieId\").mean())\n",
    "\n",
    "   \n",
    "print(proposed_movie_title[0:5])\n",
    "\n",
    "proposed_movie_completed.extend(proposed_movie_title[0:5])"
   ]
  },
  {
   "cell_type": "code",
   "execution_count": 40,
   "metadata": {},
   "outputs": [
    {
     "name": "stdout",
     "output_type": "stream",
     "text": [
      "['Matrix, The (1999)', 'Inception (2010)', 'Court Jester, The (1956)', 'Everest (1998)', 'Sherlock Holmes: A Game of Shadows (2011)', 'Interstellar (2014)', 'Dark Knight Rises, The (2012)', 'Starbuck (2011)', 'Great Gatsby, The (2013)', 'Captain America: The Winter Soldier (2014)']\n"
     ]
    }
   ],
   "source": [
    "print(proposed_movie_completed)"
   ]
  },
  {
   "cell_type": "code",
   "execution_count": 41,
   "metadata": {},
   "outputs": [
    {
     "data": {
      "text/html": [
       "<div>\n",
       "<style scoped>\n",
       "    .dataframe tbody tr th:only-of-type {\n",
       "        vertical-align: middle;\n",
       "    }\n",
       "\n",
       "    .dataframe tbody tr th {\n",
       "        vertical-align: top;\n",
       "    }\n",
       "\n",
       "    .dataframe thead th {\n",
       "        text-align: right;\n",
       "    }\n",
       "</style>\n",
       "<table border=\"1\" class=\"dataframe\">\n",
       "  <thead>\n",
       "    <tr style=\"text-align: right;\">\n",
       "      <th></th>\n",
       "      <th>0</th>\n",
       "    </tr>\n",
       "  </thead>\n",
       "  <tbody>\n",
       "    <tr>\n",
       "      <th>0</th>\n",
       "      <td>Matrix, The (1999)</td>\n",
       "    </tr>\n",
       "    <tr>\n",
       "      <th>1</th>\n",
       "      <td>Inception (2010)</td>\n",
       "    </tr>\n",
       "    <tr>\n",
       "      <th>2</th>\n",
       "      <td>Court Jester, The (1956)</td>\n",
       "    </tr>\n",
       "    <tr>\n",
       "      <th>3</th>\n",
       "      <td>Everest (1998)</td>\n",
       "    </tr>\n",
       "    <tr>\n",
       "      <th>4</th>\n",
       "      <td>Sherlock Holmes: A Game of Shadows (2011)</td>\n",
       "    </tr>\n",
       "    <tr>\n",
       "      <th>5</th>\n",
       "      <td>Interstellar (2014)</td>\n",
       "    </tr>\n",
       "    <tr>\n",
       "      <th>6</th>\n",
       "      <td>Dark Knight Rises, The (2012)</td>\n",
       "    </tr>\n",
       "    <tr>\n",
       "      <th>7</th>\n",
       "      <td>Starbuck (2011)</td>\n",
       "    </tr>\n",
       "    <tr>\n",
       "      <th>8</th>\n",
       "      <td>Great Gatsby, The (2013)</td>\n",
       "    </tr>\n",
       "    <tr>\n",
       "      <th>9</th>\n",
       "      <td>Captain America: The Winter Soldier (2014)</td>\n",
       "    </tr>\n",
       "  </tbody>\n",
       "</table>\n",
       "</div>"
      ],
      "text/plain": [
       "                                            0\n",
       "0                          Matrix, The (1999)\n",
       "1                            Inception (2010)\n",
       "2                    Court Jester, The (1956)\n",
       "3                              Everest (1998)\n",
       "4   Sherlock Holmes: A Game of Shadows (2011)\n",
       "5                         Interstellar (2014)\n",
       "6               Dark Knight Rises, The (2012)\n",
       "7                             Starbuck (2011)\n",
       "8                    Great Gatsby, The (2013)\n",
       "9  Captain America: The Winter Soldier (2014)"
      ]
     },
     "execution_count": 41,
     "metadata": {},
     "output_type": "execute_result"
    }
   ],
   "source": [
    "proposed_movie_pivot=pd.DataFrame(proposed_movie_completed)\n",
    "proposed_movie_pivot.head(10)"
   ]
  },
  {
   "cell_type": "code",
   "execution_count": 42,
   "metadata": {},
   "outputs": [],
   "source": [
    "proposed_movie_pivot.to_csv('../data/proposed_movie_pivot.csv')"
   ]
  }
 ],
 "metadata": {
  "colab": {
   "provenance": []
  },
  "kernelspec": {
   "display_name": "Python 3 (ipykernel)",
   "language": "python",
   "name": "python3"
  },
  "language_info": {
   "codemirror_mode": {
    "name": "ipython",
    "version": 3
   },
   "file_extension": ".py",
   "mimetype": "text/x-python",
   "name": "python",
   "nbconvert_exporter": "python",
   "pygments_lexer": "ipython3",
   "version": "3.9.12"
  }
 },
 "nbformat": 4,
 "nbformat_minor": 1
}
